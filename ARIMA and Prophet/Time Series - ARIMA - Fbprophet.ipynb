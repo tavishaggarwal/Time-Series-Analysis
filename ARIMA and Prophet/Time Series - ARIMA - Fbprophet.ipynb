{
 "cells": [
  {
   "cell_type": "markdown",
   "metadata": {
    "id": "h7WOaQ9b6JZo"
   },
   "source": [
    "# Time Series Forescasting\n",
    "In this notebook, we will be exploring prophet package from facebook to do time series analysis.\n",
    "We will compare it with the ARIMA package"
   ]
  },
  {
   "cell_type": "code",
   "execution_count": 1,
   "metadata": {},
   "outputs": [],
   "source": [
    "import warnings\n",
    "warnings.filterwarnings('ignore')"
   ]
  },
  {
   "cell_type": "code",
   "execution_count": 2,
   "metadata": {
    "colab": {
     "base_uri": "https://localhost:8080/"
    },
    "executionInfo": {
     "elapsed": 7365,
     "status": "ok",
     "timestamp": 1618654903652,
     "user": {
      "displayName": "Ashok Veda",
      "photoUrl": "https://lh3.googleusercontent.com/a-/AOh14GjUuYmUsFJgSQsyMV-At_SUuDVf1-PdPY7zJvsAeTc=s64",
      "userId": "06764506290920928613"
     },
     "user_tz": -330
    },
    "id": "KoWbdL2M6JZs",
    "outputId": "42c1a46f-f78c-4913-87f1-0db60a61dfd1"
   },
   "outputs": [],
   "source": [
    "import pandas as pd\n",
    "import numpy as np\n",
    "from pandas import datetime\n",
    "import matplotlib.pyplot as plt\n",
    "%matplotlib inline"
   ]
  },
  {
   "cell_type": "code",
   "execution_count": 3,
   "metadata": {
    "colab": {
     "base_uri": "https://localhost:8080/",
     "height": 202
    },
    "executionInfo": {
     "elapsed": 3510,
     "status": "ok",
     "timestamp": 1618654904473,
     "user": {
      "displayName": "Ashok Veda",
      "photoUrl": "https://lh3.googleusercontent.com/a-/AOh14GjUuYmUsFJgSQsyMV-At_SUuDVf1-PdPY7zJvsAeTc=s64",
      "userId": "06764506290920928613"
     },
     "user_tz": -330
    },
    "id": "WtKTYuyF6JZu",
    "outputId": "cd49dcd7-9632-4c74-d95b-988aa466c7eb"
   },
   "outputs": [
    {
     "data": {
      "text/html": [
       "<div>\n",
       "<style scoped>\n",
       "    .dataframe tbody tr th:only-of-type {\n",
       "        vertical-align: middle;\n",
       "    }\n",
       "\n",
       "    .dataframe tbody tr th {\n",
       "        vertical-align: top;\n",
       "    }\n",
       "\n",
       "    .dataframe thead th {\n",
       "        text-align: right;\n",
       "    }\n",
       "</style>\n",
       "<table border=\"1\" class=\"dataframe\">\n",
       "  <thead>\n",
       "    <tr style=\"text-align: right;\">\n",
       "      <th></th>\n",
       "      <th>Month</th>\n",
       "      <th>Sales</th>\n",
       "    </tr>\n",
       "  </thead>\n",
       "  <tbody>\n",
       "    <tr>\n",
       "      <th>0</th>\n",
       "      <td>2016-01</td>\n",
       "      <td>266</td>\n",
       "    </tr>\n",
       "    <tr>\n",
       "      <th>1</th>\n",
       "      <td>2016-02</td>\n",
       "      <td>146</td>\n",
       "    </tr>\n",
       "    <tr>\n",
       "      <th>2</th>\n",
       "      <td>2016-03</td>\n",
       "      <td>183</td>\n",
       "    </tr>\n",
       "    <tr>\n",
       "      <th>3</th>\n",
       "      <td>2016-04</td>\n",
       "      <td>119</td>\n",
       "    </tr>\n",
       "    <tr>\n",
       "      <th>4</th>\n",
       "      <td>2016-05</td>\n",
       "      <td>180</td>\n",
       "    </tr>\n",
       "  </tbody>\n",
       "</table>\n",
       "</div>"
      ],
      "text/plain": [
       "     Month  Sales\n",
       "0  2016-01    266\n",
       "1  2016-02    146\n",
       "2  2016-03    183\n",
       "3  2016-04    119\n",
       "4  2016-05    180"
      ]
     },
     "execution_count": 3,
     "metadata": {},
     "output_type": "execute_result"
    }
   ],
   "source": [
    "\n",
    "data = pd.read_csv('car-sales.csv')\n",
    "data.head()"
   ]
  },
  {
   "cell_type": "code",
   "execution_count": 4,
   "metadata": {
    "colab": {
     "base_uri": "https://localhost:8080/"
    },
    "executionInfo": {
     "elapsed": 1252,
     "status": "ok",
     "timestamp": 1618654906117,
     "user": {
      "displayName": "Ashok Veda",
      "photoUrl": "https://lh3.googleusercontent.com/a-/AOh14GjUuYmUsFJgSQsyMV-At_SUuDVf1-PdPY7zJvsAeTc=s64",
      "userId": "06764506290920928613"
     },
     "user_tz": -330
    },
    "id": "GNlnLKk16JZy",
    "outputId": "5a05c249-50c0-4f7d-9e27-cd702825727d"
   },
   "outputs": [
    {
     "name": "stdout",
     "output_type": "stream",
     "text": [
      "2016-01-01 00:00:00\n"
     ]
    }
   ],
   "source": [
    "## Demo showing how we can convert the Month column in the dataset to\n",
    "## datetime column\n",
    "newdate = '2016-01'\n",
    "print(datetime.strptime(newdate,'%Y-%m'))"
   ]
  },
  {
   "cell_type": "code",
   "execution_count": 5,
   "metadata": {
    "colab": {
     "base_uri": "https://localhost:8080/",
     "height": 233
    },
    "executionInfo": {
     "elapsed": 1109,
     "status": "ok",
     "timestamp": 1618654906437,
     "user": {
      "displayName": "Ashok Veda",
      "photoUrl": "https://lh3.googleusercontent.com/a-/AOh14GjUuYmUsFJgSQsyMV-At_SUuDVf1-PdPY7zJvsAeTc=s64",
      "userId": "06764506290920928613"
     },
     "user_tz": -330
    },
    "id": "m10JcJOh6JZz",
    "outputId": "ad920cdd-517b-4a31-fd04-3a962793390b"
   },
   "outputs": [
    {
     "data": {
      "text/html": [
       "<div>\n",
       "<style scoped>\n",
       "    .dataframe tbody tr th:only-of-type {\n",
       "        vertical-align: middle;\n",
       "    }\n",
       "\n",
       "    .dataframe tbody tr th {\n",
       "        vertical-align: top;\n",
       "    }\n",
       "\n",
       "    .dataframe thead th {\n",
       "        text-align: right;\n",
       "    }\n",
       "</style>\n",
       "<table border=\"1\" class=\"dataframe\">\n",
       "  <thead>\n",
       "    <tr style=\"text-align: right;\">\n",
       "      <th></th>\n",
       "      <th>Sales</th>\n",
       "    </tr>\n",
       "    <tr>\n",
       "      <th>Month</th>\n",
       "      <th></th>\n",
       "    </tr>\n",
       "  </thead>\n",
       "  <tbody>\n",
       "    <tr>\n",
       "      <th>2016-01-01</th>\n",
       "      <td>266</td>\n",
       "    </tr>\n",
       "    <tr>\n",
       "      <th>2016-02-01</th>\n",
       "      <td>146</td>\n",
       "    </tr>\n",
       "    <tr>\n",
       "      <th>2016-03-01</th>\n",
       "      <td>183</td>\n",
       "    </tr>\n",
       "    <tr>\n",
       "      <th>2016-04-01</th>\n",
       "      <td>119</td>\n",
       "    </tr>\n",
       "    <tr>\n",
       "      <th>2016-05-01</th>\n",
       "      <td>180</td>\n",
       "    </tr>\n",
       "  </tbody>\n",
       "</table>\n",
       "</div>"
      ],
      "text/plain": [
       "            Sales\n",
       "Month            \n",
       "2016-01-01    266\n",
       "2016-02-01    146\n",
       "2016-03-01    183\n",
       "2016-04-01    119\n",
       "2016-05-01    180"
      ]
     },
     "execution_count": 5,
     "metadata": {},
     "output_type": "execute_result"
    }
   ],
   "source": [
    "def parser(x):\n",
    "    return datetime.strptime(x,'%Y-%m')\n",
    "\n",
    "# Applying parsr funtion to Month column or column with index 0.\n",
    "sales = pd.read_csv('car-sales.csv',index_col=0, parse_dates=[0] ,\n",
    "                    date_parser=parser)\n",
    "sales.head()"
   ]
  },
  {
   "cell_type": "code",
   "execution_count": 6,
   "metadata": {
    "colab": {
     "base_uri": "https://localhost:8080/",
     "height": 291
    },
    "executionInfo": {
     "elapsed": 1725,
     "status": "ok",
     "timestamp": 1618654907224,
     "user": {
      "displayName": "Ashok Veda",
      "photoUrl": "https://lh3.googleusercontent.com/a-/AOh14GjUuYmUsFJgSQsyMV-At_SUuDVf1-PdPY7zJvsAeTc=s64",
      "userId": "06764506290920928613"
     },
     "user_tz": -330
    },
    "id": "QUqt8Yek6JZ0",
    "outputId": "62ba6500-8f7c-4c18-eb2d-07ab11a2a0da"
   },
   "outputs": [
    {
     "data": {
      "image/png": "[encoded data removed]",
      "text/plain": [
       "<Figure size 432x288 with 1 Axes>"
      ]
     },
     "metadata": {
      "needs_background": "light"
     },
     "output_type": "display_data"
    }
   ],
   "source": [
    "sales.plot()\n",
    "plt.show()"
   ]
  },
  {
   "cell_type": "markdown",
   "metadata": {
    "id": "Dt0uSOUT6JZ1"
   },
   "source": [
    "Stationary means mean, variance and covariance is constant over periods."
   ]
  },
  {
   "cell_type": "markdown",
   "metadata": {},
   "source": [
    "## Checking Auto Colleration Function (ACF)"
   ]
  },
  {
   "cell_type": "code",
   "execution_count": 7,
   "metadata": {
    "colab": {
     "base_uri": "https://localhost:8080/",
     "height": 336
    },
    "executionInfo": {
     "elapsed": 2187,
     "status": "ok",
     "timestamp": 1618654908568,
     "user": {
      "displayName": "Ashok Veda",
      "photoUrl": "https://lh3.googleusercontent.com/a-/AOh14GjUuYmUsFJgSQsyMV-At_SUuDVf1-PdPY7zJvsAeTc=s64",
      "userId": "06764506290920928613"
     },
     "user_tz": -330
    },
    "id": "FgaHgxrA6JZ1",
    "outputId": "a56def18-8439-44b3-8988-5e3ffa92c687",
    "scrolled": true
   },
   "outputs": [
    {
     "data": {
      "image/png": "[encoded data removed]",
      "text/plain": [
       "<Figure size 432x288 with 1 Axes>"
      ]
     },
     "metadata": {
      "needs_background": "light"
     },
     "output_type": "display_data"
    }
   ],
   "source": [
    "from statsmodels.graphics.tsaplots import plot_acf\n",
    "plot_acf(sales)\n",
    "plt.show()"
   ]
  },
  {
   "cell_type": "markdown",
   "metadata": {
    "id": "diOTl-P16JZ2"
   },
   "source": [
    "### Converting series to stationary"
   ]
  },
  {
   "cell_type": "code",
   "execution_count": 8,
   "metadata": {
    "colab": {
     "base_uri": "https://localhost:8080/",
     "height": 233
    },
    "executionInfo": {
     "elapsed": 1373,
     "status": "ok",
     "timestamp": 1618654908568,
     "user": {
      "displayName": "Ashok Veda",
      "photoUrl": "https://lh3.googleusercontent.com/a-/AOh14GjUuYmUsFJgSQsyMV-At_SUuDVf1-PdPY7zJvsAeTc=s64",
      "userId": "06764506290920928613"
     },
     "user_tz": -330
    },
    "id": "RgI3QM6m6JZ3",
    "outputId": "a739149a-0ede-4471-9900-82f509d2d304"
   },
   "outputs": [
    {
     "data": {
      "text/html": [
       "<div>\n",
       "<style scoped>\n",
       "    .dataframe tbody tr th:only-of-type {\n",
       "        vertical-align: middle;\n",
       "    }\n",
       "\n",
       "    .dataframe tbody tr th {\n",
       "        vertical-align: top;\n",
       "    }\n",
       "\n",
       "    .dataframe thead th {\n",
       "        text-align: right;\n",
       "    }\n",
       "</style>\n",
       "<table border=\"1\" class=\"dataframe\">\n",
       "  <thead>\n",
       "    <tr style=\"text-align: right;\">\n",
       "      <th></th>\n",
       "      <th>Sales</th>\n",
       "    </tr>\n",
       "    <tr>\n",
       "      <th>Month</th>\n",
       "      <th></th>\n",
       "    </tr>\n",
       "  </thead>\n",
       "  <tbody>\n",
       "    <tr>\n",
       "      <th>2016-01-01</th>\n",
       "      <td>266</td>\n",
       "    </tr>\n",
       "    <tr>\n",
       "      <th>2016-02-01</th>\n",
       "      <td>146</td>\n",
       "    </tr>\n",
       "    <tr>\n",
       "      <th>2016-03-01</th>\n",
       "      <td>183</td>\n",
       "    </tr>\n",
       "    <tr>\n",
       "      <th>2016-04-01</th>\n",
       "      <td>119</td>\n",
       "    </tr>\n",
       "    <tr>\n",
       "      <th>2016-05-01</th>\n",
       "      <td>180</td>\n",
       "    </tr>\n",
       "  </tbody>\n",
       "</table>\n",
       "</div>"
      ],
      "text/plain": [
       "            Sales\n",
       "Month            \n",
       "2016-01-01    266\n",
       "2016-02-01    146\n",
       "2016-03-01    183\n",
       "2016-04-01    119\n",
       "2016-05-01    180"
      ]
     },
     "execution_count": 8,
     "metadata": {},
     "output_type": "execute_result"
    }
   ],
   "source": [
    "sales.head()"
   ]
  },
  {
   "cell_type": "code",
   "execution_count": 9,
   "metadata": {
    "colab": {
     "base_uri": "https://localhost:8080/",
     "height": 1000
    },
    "executionInfo": {
     "elapsed": 1429,
     "status": "ok",
     "timestamp": 1618654908910,
     "user": {
      "displayName": "Ashok Veda",
      "photoUrl": "https://lh3.googleusercontent.com/a-/AOh14GjUuYmUsFJgSQsyMV-At_SUuDVf1-PdPY7zJvsAeTc=s64",
      "userId": "06764506290920928613"
     },
     "user_tz": -330
    },
    "id": "fwO55ynM6JZ3",
    "outputId": "6817b88a-53a4-4974-ef8d-a9567009b3ab"
   },
   "outputs": [
    {
     "data": {
      "text/html": [
       "<div>\n",
       "<style scoped>\n",
       "    .dataframe tbody tr th:only-of-type {\n",
       "        vertical-align: middle;\n",
       "    }\n",
       "\n",
       "    .dataframe tbody tr th {\n",
       "        vertical-align: top;\n",
       "    }\n",
       "\n",
       "    .dataframe thead th {\n",
       "        text-align: right;\n",
       "    }\n",
       "</style>\n",
       "<table border=\"1\" class=\"dataframe\">\n",
       "  <thead>\n",
       "    <tr style=\"text-align: right;\">\n",
       "      <th></th>\n",
       "      <th>Sales</th>\n",
       "    </tr>\n",
       "    <tr>\n",
       "      <th>Month</th>\n",
       "      <th></th>\n",
       "    </tr>\n",
       "  </thead>\n",
       "  <tbody>\n",
       "    <tr>\n",
       "      <th>2016-01-01</th>\n",
       "      <td>NaN</td>\n",
       "    </tr>\n",
       "    <tr>\n",
       "      <th>2016-02-01</th>\n",
       "      <td>266.0</td>\n",
       "    </tr>\n",
       "    <tr>\n",
       "      <th>2016-03-01</th>\n",
       "      <td>146.0</td>\n",
       "    </tr>\n",
       "    <tr>\n",
       "      <th>2016-04-01</th>\n",
       "      <td>183.0</td>\n",
       "    </tr>\n",
       "    <tr>\n",
       "      <th>2016-05-01</th>\n",
       "      <td>119.0</td>\n",
       "    </tr>\n",
       "  </tbody>\n",
       "</table>\n",
       "</div>"
      ],
      "text/plain": [
       "            Sales\n",
       "Month            \n",
       "2016-01-01    NaN\n",
       "2016-02-01  266.0\n",
       "2016-03-01  146.0\n",
       "2016-04-01  183.0\n",
       "2016-05-01  119.0"
      ]
     },
     "execution_count": 9,
     "metadata": {},
     "output_type": "execute_result"
    }
   ],
   "source": [
    "sales.shift(1).head()"
   ]
  },
  {
   "cell_type": "code",
   "execution_count": 10,
   "metadata": {
    "executionInfo": {
     "elapsed": 1190,
     "status": "ok",
     "timestamp": 1618654908911,
     "user": {
      "displayName": "Ashok Veda",
      "photoUrl": "https://lh3.googleusercontent.com/a-/AOh14GjUuYmUsFJgSQsyMV-At_SUuDVf1-PdPY7zJvsAeTc=s64",
      "userId": "06764506290920928613"
     },
     "user_tz": -330
    },
    "id": "el3yFz4s6JZ4"
   },
   "outputs": [],
   "source": [
    "# Integrated of order 1, denoted by d (for diff),\n",
    "# one of the parameter of ARIMA model\n",
    "\n",
    "sales_diff = sales.diff(periods=1)"
   ]
  },
  {
   "cell_type": "code",
   "execution_count": 11,
   "metadata": {
    "colab": {
     "base_uri": "https://localhost:8080/",
     "height": 233
    },
    "executionInfo": {
     "elapsed": 959,
     "status": "ok",
     "timestamp": 1618654908911,
     "user": {
      "displayName": "Ashok Veda",
      "photoUrl": "https://lh3.googleusercontent.com/a-/AOh14GjUuYmUsFJgSQsyMV-At_SUuDVf1-PdPY7zJvsAeTc=s64",
      "userId": "06764506290920928613"
     },
     "user_tz": -330
    },
    "id": "Mb2eNPs46JZ4",
    "outputId": "1e75c6cb-43c8-4933-e211-dfb7d0c7e1f0"
   },
   "outputs": [
    {
     "data": {
      "text/html": [
       "<div>\n",
       "<style scoped>\n",
       "    .dataframe tbody tr th:only-of-type {\n",
       "        vertical-align: middle;\n",
       "    }\n",
       "\n",
       "    .dataframe tbody tr th {\n",
       "        vertical-align: top;\n",
       "    }\n",
       "\n",
       "    .dataframe thead th {\n",
       "        text-align: right;\n",
       "    }\n",
       "</style>\n",
       "<table border=\"1\" class=\"dataframe\">\n",
       "  <thead>\n",
       "    <tr style=\"text-align: right;\">\n",
       "      <th></th>\n",
       "      <th>Sales</th>\n",
       "    </tr>\n",
       "    <tr>\n",
       "      <th>Month</th>\n",
       "      <th></th>\n",
       "    </tr>\n",
       "  </thead>\n",
       "  <tbody>\n",
       "    <tr>\n",
       "      <th>2016-01-01</th>\n",
       "      <td>266</td>\n",
       "    </tr>\n",
       "    <tr>\n",
       "      <th>2016-02-01</th>\n",
       "      <td>146</td>\n",
       "    </tr>\n",
       "    <tr>\n",
       "      <th>2016-03-01</th>\n",
       "      <td>183</td>\n",
       "    </tr>\n",
       "    <tr>\n",
       "      <th>2016-04-01</th>\n",
       "      <td>119</td>\n",
       "    </tr>\n",
       "    <tr>\n",
       "      <th>2016-05-01</th>\n",
       "      <td>180</td>\n",
       "    </tr>\n",
       "  </tbody>\n",
       "</table>\n",
       "</div>"
      ],
      "text/plain": [
       "            Sales\n",
       "Month            \n",
       "2016-01-01    266\n",
       "2016-02-01    146\n",
       "2016-03-01    183\n",
       "2016-04-01    119\n",
       "2016-05-01    180"
      ]
     },
     "execution_count": 11,
     "metadata": {},
     "output_type": "execute_result"
    }
   ],
   "source": [
    "sales.head()"
   ]
  },
  {
   "cell_type": "code",
   "execution_count": 12,
   "metadata": {
    "colab": {
     "base_uri": "https://localhost:8080/",
     "height": 233
    },
    "executionInfo": {
     "elapsed": 763,
     "status": "ok",
     "timestamp": 1618654908912,
     "user": {
      "displayName": "Ashok Veda",
      "photoUrl": "https://lh3.googleusercontent.com/a-/AOh14GjUuYmUsFJgSQsyMV-At_SUuDVf1-PdPY7zJvsAeTc=s64",
      "userId": "06764506290920928613"
     },
     "user_tz": -330
    },
    "id": "hfCY7rrl6JZ5",
    "outputId": "7d3bc404-c325-49c5-d3a0-b7f58a3150d3"
   },
   "outputs": [
    {
     "data": {
      "text/html": [
       "<div>\n",
       "<style scoped>\n",
       "    .dataframe tbody tr th:only-of-type {\n",
       "        vertical-align: middle;\n",
       "    }\n",
       "\n",
       "    .dataframe tbody tr th {\n",
       "        vertical-align: top;\n",
       "    }\n",
       "\n",
       "    .dataframe thead th {\n",
       "        text-align: right;\n",
       "    }\n",
       "</style>\n",
       "<table border=\"1\" class=\"dataframe\">\n",
       "  <thead>\n",
       "    <tr style=\"text-align: right;\">\n",
       "      <th></th>\n",
       "      <th>Sales</th>\n",
       "    </tr>\n",
       "    <tr>\n",
       "      <th>Month</th>\n",
       "      <th></th>\n",
       "    </tr>\n",
       "  </thead>\n",
       "  <tbody>\n",
       "    <tr>\n",
       "      <th>2016-02-01</th>\n",
       "      <td>-120.0</td>\n",
       "    </tr>\n",
       "    <tr>\n",
       "      <th>2016-03-01</th>\n",
       "      <td>37.0</td>\n",
       "    </tr>\n",
       "    <tr>\n",
       "      <th>2016-04-01</th>\n",
       "      <td>-64.0</td>\n",
       "    </tr>\n",
       "    <tr>\n",
       "      <th>2016-05-01</th>\n",
       "      <td>61.0</td>\n",
       "    </tr>\n",
       "    <tr>\n",
       "      <th>2016-06-01</th>\n",
       "      <td>-11.0</td>\n",
       "    </tr>\n",
       "  </tbody>\n",
       "</table>\n",
       "</div>"
      ],
      "text/plain": [
       "            Sales\n",
       "Month            \n",
       "2016-02-01 -120.0\n",
       "2016-03-01   37.0\n",
       "2016-04-01  -64.0\n",
       "2016-05-01   61.0\n",
       "2016-06-01  -11.0"
      ]
     },
     "execution_count": 12,
     "metadata": {},
     "output_type": "execute_result"
    }
   ],
   "source": [
    "# Remove first element as after the shift with degree 1, it will be null\n",
    "sales_diff = sales_diff[1:]\n",
    "sales_diff.head()"
   ]
  },
  {
   "cell_type": "code",
   "execution_count": 13,
   "metadata": {
    "colab": {
     "base_uri": "https://localhost:8080/",
     "height": 281
    },
    "executionInfo": {
     "elapsed": 1553,
     "status": "ok",
     "timestamp": 1618654909930,
     "user": {
      "displayName": "Ashok Veda",
      "photoUrl": "https://lh3.googleusercontent.com/a-/AOh14GjUuYmUsFJgSQsyMV-At_SUuDVf1-PdPY7zJvsAeTc=s64",
      "userId": "06764506290920928613"
     },
     "user_tz": -330
    },
    "id": "L70pob5J6JZ5",
    "outputId": "68e93c0b-8993-4985-93de-44dc049d446f"
   },
   "outputs": [
    {
     "data": {
      "image/png": "[encoded data removed]",
      "text/plain": [
       "<Figure size 432x288 with 1 Axes>"
      ]
     },
     "metadata": {
      "needs_background": "light"
     },
     "output_type": "display_data"
    }
   ],
   "source": [
    "plot_acf(sales_diff)\n",
    "plt.show()"
   ]
  },
  {
   "cell_type": "code",
   "execution_count": 14,
   "metadata": {
    "colab": {
     "base_uri": "https://localhost:8080/",
     "height": 309
    },
    "executionInfo": {
     "elapsed": 2032,
     "status": "ok",
     "timestamp": 1618654910643,
     "user": {
      "displayName": "Ashok Veda",
      "photoUrl": "https://lh3.googleusercontent.com/a-/AOh14GjUuYmUsFJgSQsyMV-At_SUuDVf1-PdPY7zJvsAeTc=s64",
      "userId": "06764506290920928613"
     },
     "user_tz": -330
    },
    "id": "zASri_qj6JZ6",
    "outputId": "c1635e7d-2abc-4db8-e5a1-d0313454ef36"
   },
   "outputs": [
    {
     "data": {
      "image/png": "[encoded data removed]",
      "text/plain": [
       "<Figure size 432x288 with 1 Axes>"
      ]
     },
     "metadata": {
      "needs_background": "light"
     },
     "output_type": "display_data"
    }
   ],
   "source": [
    "sales_diff.plot()\n",
    "plt.show()"
   ]
  },
  {
   "cell_type": "markdown",
   "metadata": {
    "executionInfo": {
     "elapsed": 1580,
     "status": "ok",
     "timestamp": 1618654910644,
     "user": {
      "displayName": "Ashok Veda",
      "photoUrl": "https://lh3.googleusercontent.com/a-/AOh14GjUuYmUsFJgSQsyMV-At_SUuDVf1-PdPY7zJvsAeTc=s64",
      "userId": "06764506290920928613"
     },
     "user_tz": -330
    },
    "id": "U4D-hc9Z6JZ6"
   },
   "source": [
    "## Train-Test Split"
   ]
  },
  {
   "cell_type": "code",
   "execution_count": 15,
   "metadata": {
    "executionInfo": {
     "elapsed": 1241,
     "status": "ok",
     "timestamp": 1618654910645,
     "user": {
      "displayName": "Ashok Veda",
      "photoUrl": "https://lh3.googleusercontent.com/a-/AOh14GjUuYmUsFJgSQsyMV-At_SUuDVf1-PdPY7zJvsAeTc=s64",
      "userId": "06764506290920928613"
     },
     "user_tz": -330
    },
    "id": "uiH3Tw3_6JZ7"
   },
   "outputs": [],
   "source": [
    "X = sales.values.astype('float')\n",
    "train = X[0:27] # 27 datapoints as train data\n",
    "test = X[26:]  # 9 datapoints as test data\n",
    "predictions = []"
   ]
  },
  {
   "cell_type": "code",
   "execution_count": 16,
   "metadata": {
    "colab": {
     "base_uri": "https://localhost:8080/"
    },
    "executionInfo": {
     "elapsed": 1095,
     "status": "ok",
     "timestamp": 1618654910986,
     "user": {
      "displayName": "Ashok Veda",
      "photoUrl": "https://lh3.googleusercontent.com/a-/AOh14GjUuYmUsFJgSQsyMV-At_SUuDVf1-PdPY7zJvsAeTc=s64",
      "userId": "06764506290920928613"
     },
     "user_tz": -330
    },
    "id": "qpA_YTG16JZ7",
    "outputId": "3c7ce030-27c6-4060-82ab-23436e3c0593"
   },
   "outputs": [
    {
     "data": {
      "text/plain": [
       "(27, 10)"
      ]
     },
     "execution_count": 16,
     "metadata": {},
     "output_type": "execute_result"
    }
   ],
   "source": [
    "train.size, test.size"
   ]
  },
  {
   "cell_type": "markdown",
   "metadata": {
    "id": "7Ch8tXL06JZ7"
   },
   "source": [
    "# ARIMA model"
   ]
  },
  {
   "cell_type": "code",
   "execution_count": 17,
   "metadata": {
    "executionInfo": {
     "elapsed": 545,
     "status": "ok",
     "timestamp": 1618655000697,
     "user": {
      "displayName": "Ashok Veda",
      "photoUrl": "https://lh3.googleusercontent.com/a-/AOh14GjUuYmUsFJgSQsyMV-At_SUuDVf1-PdPY7zJvsAeTc=s64",
      "userId": "06764506290920928613"
     },
     "user_tz": -330
    },
    "id": "yrTsJUoH6JZ8"
   },
   "outputs": [],
   "source": [
    "from statsmodels.tsa.arima_model import ARIMA"
   ]
  },
  {
   "cell_type": "code",
   "execution_count": 18,
   "metadata": {
    "colab": {
     "background_save": true,
     "base_uri": "https://localhost:8080/"
    },
    "executionInfo": {
     "elapsed": 882,
     "status": "ok",
     "timestamp": 1618655156572,
     "user": {
      "displayName": "Ashok Veda",
      "photoUrl": "https://lh3.googleusercontent.com/a-/AOh14GjUuYmUsFJgSQsyMV-At_SUuDVf1-PdPY7zJvsAeTc=s64",
      "userId": "06764506290920928613"
     },
     "user_tz": -330
    },
    "id": "W5Mhb1g76JZ8"
   },
   "outputs": [
    {
     "name": "stdout",
     "output_type": "stream",
     "text": [
      "292.6686238694111\n"
     ]
    }
   ],
   "source": [
    "# p,d,q parameters\n",
    "# p = periods taken for autoregressive model\n",
    "# d = Integrated order, difference\n",
    "# q = periods in moving average model\n",
    "from sklearn.metrics import mean_squared_error\n",
    "\n",
    "model_arima = ARIMA(train,order=(3,1,2))\n",
    "\n",
    "model_arima_fit = model_arima.fit()\n",
    "print(model_arima_fit.aic)"
   ]
  },
  {
   "cell_type": "code",
   "execution_count": 19,
   "metadata": {
    "colab": {
     "background_save": true,
     "base_uri": "https://localhost:8080/"
    },
    "executionInfo": {
     "elapsed": 849,
     "status": "ok",
     "timestamp": 1618655240087,
     "user": {
      "displayName": "Ashok Veda",
      "photoUrl": "https://lh3.googleusercontent.com/a-/AOh14GjUuYmUsFJgSQsyMV-At_SUuDVf1-PdPY7zJvsAeTc=s64",
      "userId": "06764506290920928613"
     },
     "user_tz": -330
    },
    "id": "90kcDAQh6JZ9",
    "scrolled": true
   },
   "outputs": [
    {
     "data": {
      "text/plain": [
       "array([383.93158433, 332.47741719, 419.91254528, 389.1778194 ,\n",
       "       409.21403342, 373.91761013, 413.84904711, 423.08210462,\n",
       "       443.47796856, 422.17597603])"
      ]
     },
     "execution_count": 19,
     "metadata": {},
     "output_type": "execute_result"
    }
   ],
   "source": [
    "model_arima_fit.forecast(steps=10)[0]"
   ]
  },
  {
   "cell_type": "code",
   "execution_count": 20,
   "metadata": {
    "colab": {
     "background_save": true,
     "base_uri": "https://localhost:8080/"
    },
    "executionInfo": {
     "elapsed": 927,
     "status": "ok",
     "timestamp": 1618655295694,
     "user": {
      "displayName": "Ashok Veda",
      "photoUrl": "https://lh3.googleusercontent.com/a-/AOh14GjUuYmUsFJgSQsyMV-At_SUuDVf1-PdPY7zJvsAeTc=s64",
      "userId": "06764506290920928613"
     },
     "user_tz": -330
    },
    "id": "0ZEFz8td6JZ9"
   },
   "outputs": [
    {
     "name": "stdout",
     "output_type": "stream",
     "text": [
      "62.46263593752656\n"
     ]
    }
   ],
   "source": [
    "predictions= model_arima_fit.forecast(steps=10)[0]\n",
    "print(np.sqrt(mean_squared_error(test,predictions[0:10])))"
   ]
  },
  {
   "cell_type": "code",
   "execution_count": 21,
   "metadata": {
    "colab": {
     "background_save": true,
     "base_uri": "https://localhost:8080/",
     "height": 265
    },
    "executionInfo": {
     "elapsed": 1101,
     "status": "ok",
     "timestamp": 1618655322117,
     "user": {
      "displayName": "Ashok Veda",
      "photoUrl": "https://lh3.googleusercontent.com/a-/AOh14GjUuYmUsFJgSQsyMV-At_SUuDVf1-PdPY7zJvsAeTc=s64",
      "userId": "06764506290920928613"
     },
     "user_tz": -330
    },
    "id": "OZapBLsR6JZ-"
   },
   "outputs": [
    {
     "data": {
      "image/png": "[encoded data removed]",
      "text/plain": [
       "<Figure size 432x288 with 1 Axes>"
      ]
     },
     "metadata": {
      "needs_background": "light"
     },
     "output_type": "display_data"
    }
   ],
   "source": [
    "plt.plot(test, color='green', label='Test')\n",
    "plt.plot(predictions,color='red', label='Predictions')\n",
    "plt.legend()\n",
    "plt.show()"
   ]
  },
  {
   "cell_type": "markdown",
   "metadata": {
    "id": "MUQyTLTs6uEE"
   },
   "source": [
    "# FB Prophet\n"
   ]
  },
  {
   "cell_type": "code",
   "execution_count": 22,
   "metadata": {
    "colab": {
     "base_uri": "https://localhost:8080/"
    },
    "executionInfo": {
     "elapsed": 85252,
     "status": "ok",
     "timestamp": 1618048316090,
     "user": {
      "displayName": "Ashok Veda",
      "photoUrl": "https://lh3.googleusercontent.com/a-/AOh14GjUuYmUsFJgSQsyMV-At_SUuDVf1-PdPY7zJvsAeTc=s64",
      "userId": "06764506290920928613"
     },
     "user_tz": -330
    },
    "id": "EhWwM3D963Sm",
    "outputId": "c1f47f5b-16c2-49a9-eda5-21ea8c313e6c"
   },
   "outputs": [],
   "source": [
    "# installing prophet\n",
    "# !pip install prophet"
   ]
  },
  {
   "cell_type": "code",
   "execution_count": 23,
   "metadata": {
    "id": "sqBaXOt36JZ_"
   },
   "outputs": [
    {
     "name": "stderr",
     "output_type": "stream",
     "text": [
      "Importing plotly failed. Interactive plots will not work.\n"
     ]
    }
   ],
   "source": [
    "from prophet import Prophet"
   ]
  },
  {
   "cell_type": "code",
   "execution_count": 24,
   "metadata": {
    "colab": {
     "base_uri": "https://localhost:8080/",
     "height": 1000
    },
    "executionInfo": {
     "elapsed": 1210,
     "status": "ok",
     "timestamp": 1618048566453,
     "user": {
      "displayName": "Ashok Veda",
      "photoUrl": "https://lh3.googleusercontent.com/a-/AOh14GjUuYmUsFJgSQsyMV-At_SUuDVf1-PdPY7zJvsAeTc=s64",
      "userId": "06764506290920928613"
     },
     "user_tz": -330
    },
    "id": "J1gGiIUc_KNr",
    "outputId": "318e24ea-45fe-4300-a2d1-22319d2e8a24"
   },
   "outputs": [
    {
     "data": {
      "text/html": [
       "<div>\n",
       "<style scoped>\n",
       "    .dataframe tbody tr th:only-of-type {\n",
       "        vertical-align: middle;\n",
       "    }\n",
       "\n",
       "    .dataframe tbody tr th {\n",
       "        vertical-align: top;\n",
       "    }\n",
       "\n",
       "    .dataframe thead th {\n",
       "        text-align: right;\n",
       "    }\n",
       "</style>\n",
       "<table border=\"1\" class=\"dataframe\">\n",
       "  <thead>\n",
       "    <tr style=\"text-align: right;\">\n",
       "      <th></th>\n",
       "      <th>Sales</th>\n",
       "    </tr>\n",
       "    <tr>\n",
       "      <th>Month</th>\n",
       "      <th></th>\n",
       "    </tr>\n",
       "  </thead>\n",
       "  <tbody>\n",
       "    <tr>\n",
       "      <th>2016-01-01</th>\n",
       "      <td>266</td>\n",
       "    </tr>\n",
       "    <tr>\n",
       "      <th>2016-02-01</th>\n",
       "      <td>146</td>\n",
       "    </tr>\n",
       "    <tr>\n",
       "      <th>2016-03-01</th>\n",
       "      <td>183</td>\n",
       "    </tr>\n",
       "    <tr>\n",
       "      <th>2016-04-01</th>\n",
       "      <td>119</td>\n",
       "    </tr>\n",
       "    <tr>\n",
       "      <th>2016-05-01</th>\n",
       "      <td>180</td>\n",
       "    </tr>\n",
       "  </tbody>\n",
       "</table>\n",
       "</div>"
      ],
      "text/plain": [
       "            Sales\n",
       "Month            \n",
       "2016-01-01    266\n",
       "2016-02-01    146\n",
       "2016-03-01    183\n",
       "2016-04-01    119\n",
       "2016-05-01    180"
      ]
     },
     "execution_count": 24,
     "metadata": {},
     "output_type": "execute_result"
    }
   ],
   "source": [
    "def parser(x):\n",
    "    return datetime.strptime(x,'%Y-%m')\n",
    "sales = pd.read_csv('car-sales.csv',index_col=0, parse_dates=[0] ,\n",
    "                    date_parser=parser)\n",
    "sales.head()"
   ]
  },
  {
   "cell_type": "code",
   "execution_count": 25,
   "metadata": {
    "id": "3o4687RV7hJS"
   },
   "outputs": [],
   "source": [
    "# FB Prophet expect data and column names to be in certain format\n",
    "date = list(sales.index)\n",
    "sales = sales.Sales\n",
    "dataFrame = pd.DataFrame(\n",
    "    list(zip(date,sales)),\n",
    "    columns = ['ds', 'y']\n",
    ")"
   ]
  },
  {
   "cell_type": "code",
   "execution_count": 26,
   "metadata": {
    "colab": {
     "base_uri": "https://localhost:8080/"
    },
    "executionInfo": {
     "elapsed": 1090,
     "status": "ok",
     "timestamp": 1618048572884,
     "user": {
      "displayName": "Ashok Veda",
      "photoUrl": "https://lh3.googleusercontent.com/a-/AOh14GjUuYmUsFJgSQsyMV-At_SUuDVf1-PdPY7zJvsAeTc=s64",
      "userId": "06764506290920928613"
     },
     "user_tz": -330
    },
    "id": "T2C66MXt8z0N",
    "outputId": "ebed3f84-d8c3-46e2-f290-673cb83ead9f"
   },
   "outputs": [
    {
     "data": {
      "text/plain": [
       "(36, 2)"
      ]
     },
     "execution_count": 26,
     "metadata": {},
     "output_type": "execute_result"
    }
   ],
   "source": [
    "dataFrame.shape"
   ]
  },
  {
   "cell_type": "code",
   "execution_count": 27,
   "metadata": {
    "id": "1bwg3mSz-Nhd"
   },
   "outputs": [
    {
     "data": {
      "text/html": [
       "<div>\n",
       "<style scoped>\n",
       "    .dataframe tbody tr th:only-of-type {\n",
       "        vertical-align: middle;\n",
       "    }\n",
       "\n",
       "    .dataframe tbody tr th {\n",
       "        vertical-align: top;\n",
       "    }\n",
       "\n",
       "    .dataframe thead th {\n",
       "        text-align: right;\n",
       "    }\n",
       "</style>\n",
       "<table border=\"1\" class=\"dataframe\">\n",
       "  <thead>\n",
       "    <tr style=\"text-align: right;\">\n",
       "      <th></th>\n",
       "      <th>ds</th>\n",
       "      <th>y</th>\n",
       "    </tr>\n",
       "  </thead>\n",
       "  <tbody>\n",
       "    <tr>\n",
       "      <th>0</th>\n",
       "      <td>2016-01-01</td>\n",
       "      <td>266</td>\n",
       "    </tr>\n",
       "    <tr>\n",
       "      <th>1</th>\n",
       "      <td>2016-02-01</td>\n",
       "      <td>146</td>\n",
       "    </tr>\n",
       "    <tr>\n",
       "      <th>2</th>\n",
       "      <td>2016-03-01</td>\n",
       "      <td>183</td>\n",
       "    </tr>\n",
       "    <tr>\n",
       "      <th>3</th>\n",
       "      <td>2016-04-01</td>\n",
       "      <td>119</td>\n",
       "    </tr>\n",
       "    <tr>\n",
       "      <th>4</th>\n",
       "      <td>2016-05-01</td>\n",
       "      <td>180</td>\n",
       "    </tr>\n",
       "  </tbody>\n",
       "</table>\n",
       "</div>"
      ],
      "text/plain": [
       "          ds    y\n",
       "0 2016-01-01  266\n",
       "1 2016-02-01  146\n",
       "2 2016-03-01  183\n",
       "3 2016-04-01  119\n",
       "4 2016-05-01  180"
      ]
     },
     "execution_count": 27,
     "metadata": {},
     "output_type": "execute_result"
    }
   ],
   "source": [
    "dataFrame.head()"
   ]
  },
  {
   "cell_type": "code",
   "execution_count": 28,
   "metadata": {
    "id": "_D_g2_vb8-0J"
   },
   "outputs": [],
   "source": [
    "dataTrain = dataFrame.iloc[0:30,:]\n",
    "dataTest = dataFrame.iloc[30:,:]"
   ]
  },
  {
   "cell_type": "code",
   "execution_count": 29,
   "metadata": {
    "colab": {
     "base_uri": "https://localhost:8080/"
    },
    "executionInfo": {
     "elapsed": 935,
     "status": "ok",
     "timestamp": 1618048580657,
     "user": {
      "displayName": "Ashok Veda",
      "photoUrl": "https://lh3.googleusercontent.com/a-/AOh14GjUuYmUsFJgSQsyMV-At_SUuDVf1-PdPY7zJvsAeTc=s64",
      "userId": "06764506290920928613"
     },
     "user_tz": -330
    },
    "id": "H-3HcqhN9HgP",
    "outputId": "7b5b00f0-5577-433e-ac67-e8e057aabfa3"
   },
   "outputs": [
    {
     "name": "stdout",
     "output_type": "stream",
     "text": [
      "(30, 2) (6, 2)\n"
     ]
    }
   ],
   "source": [
    "print(dataTrain.shape, dataTest.shape)"
   ]
  },
  {
   "cell_type": "code",
   "execution_count": 30,
   "metadata": {
    "id": "m9Yk5Sg0KHO1"
   },
   "outputs": [],
   "source": [
    "future = dataFrame[['ds']]"
   ]
  },
  {
   "cell_type": "code",
   "execution_count": 31,
   "metadata": {
    "colab": {
     "base_uri": "https://localhost:8080/",
     "height": 202
    },
    "executionInfo": {
     "elapsed": 1293,
     "status": "ok",
     "timestamp": 1618048584096,
     "user": {
      "displayName": "Ashok Veda",
      "photoUrl": "https://lh3.googleusercontent.com/a-/AOh14GjUuYmUsFJgSQsyMV-At_SUuDVf1-PdPY7zJvsAeTc=s64",
      "userId": "06764506290920928613"
     },
     "user_tz": -330
    },
    "id": "bTYduiyfKHc1",
    "outputId": "4c11eeec-bb12-484e-f9b5-5bff1c0efb60"
   },
   "outputs": [
    {
     "data": {
      "text/html": [
       "<div>\n",
       "<style scoped>\n",
       "    .dataframe tbody tr th:only-of-type {\n",
       "        vertical-align: middle;\n",
       "    }\n",
       "\n",
       "    .dataframe tbody tr th {\n",
       "        vertical-align: top;\n",
       "    }\n",
       "\n",
       "    .dataframe thead th {\n",
       "        text-align: right;\n",
       "    }\n",
       "</style>\n",
       "<table border=\"1\" class=\"dataframe\">\n",
       "  <thead>\n",
       "    <tr style=\"text-align: right;\">\n",
       "      <th></th>\n",
       "      <th>ds</th>\n",
       "    </tr>\n",
       "  </thead>\n",
       "  <tbody>\n",
       "    <tr>\n",
       "      <th>31</th>\n",
       "      <td>2018-08-01</td>\n",
       "    </tr>\n",
       "    <tr>\n",
       "      <th>32</th>\n",
       "      <td>2018-09-01</td>\n",
       "    </tr>\n",
       "    <tr>\n",
       "      <th>33</th>\n",
       "      <td>2018-10-01</td>\n",
       "    </tr>\n",
       "    <tr>\n",
       "      <th>34</th>\n",
       "      <td>2018-11-01</td>\n",
       "    </tr>\n",
       "    <tr>\n",
       "      <th>35</th>\n",
       "      <td>2018-12-01</td>\n",
       "    </tr>\n",
       "  </tbody>\n",
       "</table>\n",
       "</div>"
      ],
      "text/plain": [
       "           ds\n",
       "31 2018-08-01\n",
       "32 2018-09-01\n",
       "33 2018-10-01\n",
       "34 2018-11-01\n",
       "35 2018-12-01"
      ]
     },
     "execution_count": 31,
     "metadata": {},
     "output_type": "execute_result"
    }
   ],
   "source": [
    "future.tail()"
   ]
  },
  {
   "cell_type": "code",
   "execution_count": 32,
   "metadata": {
    "colab": {
     "base_uri": "https://localhost:8080/",
     "height": 511
    },
    "executionInfo": {
     "elapsed": 5052,
     "status": "ok",
     "timestamp": 1618048591998,
     "user": {
      "displayName": "Ashok Veda",
      "photoUrl": "https://lh3.googleusercontent.com/a-/AOh14GjUuYmUsFJgSQsyMV-At_SUuDVf1-PdPY7zJvsAeTc=s64",
      "userId": "06764506290920928613"
     },
     "user_tz": -330
    },
    "id": "NW3aK6pY6JaA",
    "outputId": "d902b051-c964-4fa4-b32a-7c86324586c1"
   },
   "outputs": [
    {
     "name": "stderr",
     "output_type": "stream",
     "text": [
      "INFO:prophet:Disabling weekly seasonality. Run prophet with weekly_seasonality=True to override this.\n",
      "INFO:prophet:Disabling daily seasonality. Run prophet with daily_seasonality=True to override this.\n",
      "INFO:prophet:n_changepoints greater than number of observations. Using 23.\n"
     ]
    },
    {
     "data": {
      "image/png": "[encoded data removed]",
      "text/plain": [
       "<Figure size 720x432 with 1 Axes>"
      ]
     },
     "metadata": {},
     "output_type": "display_data"
    }
   ],
   "source": [
    "m = Prophet().fit(dataTrain)\n",
    "fcst = m.predict(future)\n",
    "fig = m.plot(fcst)"
   ]
  },
  {
   "cell_type": "markdown",
   "metadata": {},
   "source": [
    "`Inference: ` Black dot represents the actual data and blue line reprsents the forecasted results."
   ]
  },
  {
   "cell_type": "code",
   "execution_count": 33,
   "metadata": {},
   "outputs": [
    {
     "data": {
      "text/html": [
       "<div>\n",
       "<style scoped>\n",
       "    .dataframe tbody tr th:only-of-type {\n",
       "        vertical-align: middle;\n",
       "    }\n",
       "\n",
       "    .dataframe tbody tr th {\n",
       "        vertical-align: top;\n",
       "    }\n",
       "\n",
       "    .dataframe thead th {\n",
       "        text-align: right;\n",
       "    }\n",
       "</style>\n",
       "<table border=\"1\" class=\"dataframe\">\n",
       "  <thead>\n",
       "    <tr style=\"text-align: right;\">\n",
       "      <th></th>\n",
       "      <th>ds</th>\n",
       "      <th>trend</th>\n",
       "      <th>yhat_lower</th>\n",
       "      <th>yhat_upper</th>\n",
       "      <th>trend_lower</th>\n",
       "      <th>trend_upper</th>\n",
       "      <th>additive_terms</th>\n",
       "      <th>additive_terms_lower</th>\n",
       "      <th>additive_terms_upper</th>\n",
       "      <th>yearly</th>\n",
       "      <th>yearly_lower</th>\n",
       "      <th>yearly_upper</th>\n",
       "      <th>multiplicative_terms</th>\n",
       "      <th>multiplicative_terms_lower</th>\n",
       "      <th>multiplicative_terms_upper</th>\n",
       "      <th>yhat</th>\n",
       "    </tr>\n",
       "  </thead>\n",
       "  <tbody>\n",
       "    <tr>\n",
       "      <th>31</th>\n",
       "      <td>2018-08-01</td>\n",
       "      <td>427.754558</td>\n",
       "      <td>414.830801</td>\n",
       "      <td>488.333552</td>\n",
       "      <td>427.752570</td>\n",
       "      <td>427.756047</td>\n",
       "      <td>21.964323</td>\n",
       "      <td>21.964323</td>\n",
       "      <td>21.964323</td>\n",
       "      <td>21.964323</td>\n",
       "      <td>21.964323</td>\n",
       "      <td>21.964323</td>\n",
       "      <td>0.0</td>\n",
       "      <td>0.0</td>\n",
       "      <td>0.0</td>\n",
       "      <td>449.718881</td>\n",
       "    </tr>\n",
       "    <tr>\n",
       "      <th>32</th>\n",
       "      <td>2018-09-01</td>\n",
       "      <td>437.684601</td>\n",
       "      <td>394.843784</td>\n",
       "      <td>462.771821</td>\n",
       "      <td>437.680825</td>\n",
       "      <td>437.687563</td>\n",
       "      <td>-8.255008</td>\n",
       "      <td>-8.255008</td>\n",
       "      <td>-8.255008</td>\n",
       "      <td>-8.255008</td>\n",
       "      <td>-8.255008</td>\n",
       "      <td>-8.255008</td>\n",
       "      <td>0.0</td>\n",
       "      <td>0.0</td>\n",
       "      <td>0.0</td>\n",
       "      <td>429.429593</td>\n",
       "    </tr>\n",
       "    <tr>\n",
       "      <th>33</th>\n",
       "      <td>2018-10-01</td>\n",
       "      <td>447.294320</td>\n",
       "      <td>683.753467</td>\n",
       "      <td>757.089007</td>\n",
       "      <td>447.288162</td>\n",
       "      <td>447.299078</td>\n",
       "      <td>273.341179</td>\n",
       "      <td>273.341179</td>\n",
       "      <td>273.341179</td>\n",
       "      <td>273.341179</td>\n",
       "      <td>273.341179</td>\n",
       "      <td>273.341179</td>\n",
       "      <td>0.0</td>\n",
       "      <td>0.0</td>\n",
       "      <td>0.0</td>\n",
       "      <td>720.635499</td>\n",
       "    </tr>\n",
       "    <tr>\n",
       "      <th>34</th>\n",
       "      <td>2018-11-01</td>\n",
       "      <td>457.224363</td>\n",
       "      <td>125.141052</td>\n",
       "      <td>199.040942</td>\n",
       "      <td>457.215392</td>\n",
       "      <td>457.231361</td>\n",
       "      <td>-294.112746</td>\n",
       "      <td>-294.112746</td>\n",
       "      <td>-294.112746</td>\n",
       "      <td>-294.112746</td>\n",
       "      <td>-294.112746</td>\n",
       "      <td>-294.112746</td>\n",
       "      <td>0.0</td>\n",
       "      <td>0.0</td>\n",
       "      <td>0.0</td>\n",
       "      <td>163.111618</td>\n",
       "    </tr>\n",
       "    <tr>\n",
       "      <th>35</th>\n",
       "      <td>2018-12-01</td>\n",
       "      <td>466.834082</td>\n",
       "      <td>409.218816</td>\n",
       "      <td>481.912194</td>\n",
       "      <td>466.822591</td>\n",
       "      <td>466.843123</td>\n",
       "      <td>-23.117860</td>\n",
       "      <td>-23.117860</td>\n",
       "      <td>-23.117860</td>\n",
       "      <td>-23.117860</td>\n",
       "      <td>-23.117860</td>\n",
       "      <td>-23.117860</td>\n",
       "      <td>0.0</td>\n",
       "      <td>0.0</td>\n",
       "      <td>0.0</td>\n",
       "      <td>443.716223</td>\n",
       "    </tr>\n",
       "  </tbody>\n",
       "</table>\n",
       "</div>"
      ],
      "text/plain": [
       "           ds       trend  yhat_lower  yhat_upper  trend_lower  trend_upper  \\\n",
       "31 2018-08-01  427.754558  414.830801  488.333552   427.752570   427.756047   \n",
       "32 2018-09-01  437.684601  394.843784  462.771821   437.680825   437.687563   \n",
       "33 2018-10-01  447.294320  683.753467  757.089007   447.288162   447.299078   \n",
       "34 2018-11-01  457.224363  125.141052  199.040942   457.215392   457.231361   \n",
       "35 2018-12-01  466.834082  409.218816  481.912194   466.822591   466.843123   \n",
       "\n",
       "    additive_terms  additive_terms_lower  additive_terms_upper      yearly  \\\n",
       "31       21.964323             21.964323             21.964323   21.964323   \n",
       "32       -8.255008             -8.255008             -8.255008   -8.255008   \n",
       "33      273.341179            273.341179            273.341179  273.341179   \n",
       "34     -294.112746           -294.112746           -294.112746 -294.112746   \n",
       "35      -23.117860            -23.117860            -23.117860  -23.117860   \n",
       "\n",
       "    yearly_lower  yearly_upper  multiplicative_terms  \\\n",
       "31     21.964323     21.964323                   0.0   \n",
       "32     -8.255008     -8.255008                   0.0   \n",
       "33    273.341179    273.341179                   0.0   \n",
       "34   -294.112746   -294.112746                   0.0   \n",
       "35    -23.117860    -23.117860                   0.0   \n",
       "\n",
       "    multiplicative_terms_lower  multiplicative_terms_upper        yhat  \n",
       "31                         0.0                         0.0  449.718881  \n",
       "32                         0.0                         0.0  429.429593  \n",
       "33                         0.0                         0.0  720.635499  \n",
       "34                         0.0                         0.0  163.111618  \n",
       "35                         0.0                         0.0  443.716223  "
      ]
     },
     "execution_count": 33,
     "metadata": {},
     "output_type": "execute_result"
    }
   ],
   "source": [
    "# There are lot of different columns that Prophet package \n",
    "# tries to calculate while training\n",
    "fcst.tail()"
   ]
  },
  {
   "cell_type": "code",
   "execution_count": 34,
   "metadata": {},
   "outputs": [
    {
     "data": {
      "text/plain": [
       "(6, 2)"
      ]
     },
     "execution_count": 34,
     "metadata": {},
     "output_type": "execute_result"
    }
   ],
   "source": [
    "dataTest.shape"
   ]
  },
  {
   "cell_type": "code",
   "execution_count": 35,
   "metadata": {
    "colab": {
     "base_uri": "https://localhost:8080/",
     "height": 283
    },
    "executionInfo": {
     "elapsed": 1185,
     "status": "ok",
     "timestamp": 1618048604596,
     "user": {
      "displayName": "Ashok Veda",
      "photoUrl": "https://lh3.googleusercontent.com/a-/AOh14GjUuYmUsFJgSQsyMV-At_SUuDVf1-PdPY7zJvsAeTc=s64",
      "userId": "06764506290920928613"
     },
     "user_tz": -330
    },
    "id": "i0VN6ENnJKrY",
    "outputId": "125b1936-9450-4888-a3dd-ccaa66502cd3"
   },
   "outputs": [
    {
     "data": {
      "text/plain": [
       "<matplotlib.legend.Legend at 0x7ff55a6a82b0>"
      ]
     },
     "execution_count": 35,
     "metadata": {},
     "output_type": "execute_result"
    },
    {
     "data": {
      "image/png": "[encoded data removed]",
      "text/plain": [
       "<Figure size 432x288 with 1 Axes>"
      ]
     },
     "metadata": {
      "needs_background": "light"
     },
     "output_type": "display_data"
    }
   ],
   "source": [
    "forecast_horizon = 6\n",
    "plt.plot(dataTest.tail(forecast_horizon).y.values, label = 'real')\n",
    "plt.plot(fcst['yhat'].tail(forecast_horizon).values, label = 'pred')\n",
    "plt.plot(fcst['yhat_lower'].tail(forecast_horizon).values, label = 'lower')\n",
    "plt.plot(fcst['yhat_upper'].tail(forecast_horizon).values, label = 'upper')\n",
    "plt.legend()"
   ]
  },
  {
   "cell_type": "code",
   "execution_count": 36,
   "metadata": {
    "colab": {
     "base_uri": "https://localhost:8080/",
     "height": 865
    },
    "executionInfo": {
     "elapsed": 2153,
     "status": "ok",
     "timestamp": 1618048634340,
     "user": {
      "displayName": "Ashok Veda",
      "photoUrl": "https://lh3.googleusercontent.com/a-/AOh14GjUuYmUsFJgSQsyMV-At_SUuDVf1-PdPY7zJvsAeTc=s64",
      "userId": "06764506290920928613"
     },
     "user_tz": -330
    },
    "id": "pStuaMOm7Whu",
    "outputId": "ddc59907-d482-45a0-9bce-27f2140f0aab"
   },
   "outputs": [
    {
     "data": {
      "image/png": "[encoded data removed]",
      "text/plain": [
       "<Figure size 648x432 with 2 Axes>"
      ]
     },
     "execution_count": 36,
     "metadata": {},
     "output_type": "execute_result"
    },
    {
     "data": {
      "image/png": "[encoded data removed]",
      "text/plain": [
       "<Figure size 648x432 with 2 Axes>"
      ]
     },
     "metadata": {},
     "output_type": "display_data"
    }
   ],
   "source": [
    "m.plot_components(fcst)"
   ]
  },
  {
   "cell_type": "code",
   "execution_count": null,
   "metadata": {
    "id": "GMY1BPi9FVb7"
   },
   "outputs": [],
   "source": []
  }
 ],
 "metadata": {
  "colab": {
   "collapsed_sections": [],
   "name": "Time Series - ARIMA - Fbprophet.ipynb",
   "provenance": [
    {
     "file_id": "1CeBOuJ4L5co081oH7kpasn7Tw_e95ROV",
     "timestamp": 1618046874216
    }
   ],
   "version": ""
  },
  "kernelspec": {
   "display_name": "Python 3",
   "language": "python",
   "name": "python3"
  },
  "language_info": {
   "codemirror_mode": {
    "name": "ipython",
    "version": 3
   },
   "file_extension": ".py",
   "mimetype": "text/x-python",
   "name": "python",
   "nbconvert_exporter": "python",
   "pygments_lexer": "ipython3",
   "version": "3.8.8"
  }
 },
 "nbformat": 4,
 "nbformat_minor": 1
}
