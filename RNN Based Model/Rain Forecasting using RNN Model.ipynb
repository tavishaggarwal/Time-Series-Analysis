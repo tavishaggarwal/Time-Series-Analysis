{
 "cells": [
  {
   "cell_type": "markdown",
   "metadata": {},
   "source": [
    "## Training a Time Series Model using RNN based Model\n",
    "In this notebook, we will be using RNN based architecture to train the time series based model using TensorFlow library."
   ]
  },
  {
   "cell_type": "code",
   "execution_count": 1,
   "metadata": {
    "executionInfo": {
     "elapsed": 1929,
     "status": "ok",
     "timestamp": 1618656793921,
     "user": {
      "displayName": "Ashok Veda",
      "photoUrl": "https://lh3.googleusercontent.com/a-/AOh14GjUuYmUsFJgSQsyMV-At_SUuDVf1-PdPY7zJvsAeTc=s64",
      "userId": "06764506290920928613"
     },
     "user_tz": -330
    },
    "id": "Vj9oxe5_g5fN"
   },
   "outputs": [],
   "source": [
    "import numpy as np\n",
    "import pandas as pd"
   ]
  },
  {
   "cell_type": "code",
   "execution_count": 2,
   "metadata": {
    "executionInfo": {
     "elapsed": 837,
     "status": "ok",
     "timestamp": 1618656897754,
     "user": {
      "displayName": "Ashok Veda",
      "photoUrl": "https://lh3.googleusercontent.com/a-/AOh14GjUuYmUsFJgSQsyMV-At_SUuDVf1-PdPY7zJvsAeTc=s64",
      "userId": "06764506290920928613"
     },
     "user_tz": -330
    },
    "id": "YBBjEp0lkWjF"
   },
   "outputs": [],
   "source": [
    "import matplotlib.pyplot as plt"
   ]
  },
  {
   "cell_type": "code",
   "execution_count": 3,
   "metadata": {
    "executionInfo": {
     "elapsed": 2508,
     "status": "ok",
     "timestamp": 1618656795346,
     "user": {
      "displayName": "Ashok Veda",
      "photoUrl": "https://lh3.googleusercontent.com/a-/AOh14GjUuYmUsFJgSQsyMV-At_SUuDVf1-PdPY7zJvsAeTc=s64",
      "userId": "06764506290920928613"
     },
     "user_tz": -330
    },
    "id": "VHYtVgZDhVvA"
   },
   "outputs": [],
   "source": [
    "rain_high_daily = pd.read_csv('rainfall-monthly-highest-daily-total.csv')"
   ]
  },
  {
   "cell_type": "code",
   "execution_count": 4,
   "metadata": {
    "colab": {
     "base_uri": "https://localhost:8080/",
     "height": 202
    },
    "executionInfo": {
     "elapsed": 1445,
     "status": "ok",
     "timestamp": 1618656799184,
     "user": {
      "displayName": "Ashok Veda",
      "photoUrl": "https://lh3.googleusercontent.com/a-/AOh14GjUuYmUsFJgSQsyMV-At_SUuDVf1-PdPY7zJvsAeTc=s64",
      "userId": "06764506290920928613"
     },
     "user_tz": -330
    },
    "id": "I5oTw0MrhYCN",
    "outputId": "c6bd7883-098e-4ddd-8e8f-5ecc1c02e92d"
   },
   "outputs": [
    {
     "data": {
      "text/html": [
       "<div>\n",
       "<style scoped>\n",
       "    .dataframe tbody tr th:only-of-type {\n",
       "        vertical-align: middle;\n",
       "    }\n",
       "\n",
       "    .dataframe tbody tr th {\n",
       "        vertical-align: top;\n",
       "    }\n",
       "\n",
       "    .dataframe thead th {\n",
       "        text-align: right;\n",
       "    }\n",
       "</style>\n",
       "<table border=\"1\" class=\"dataframe\">\n",
       "  <thead>\n",
       "    <tr style=\"text-align: right;\">\n",
       "      <th></th>\n",
       "      <th>month</th>\n",
       "      <th>maximum_rainfall_in_a_day</th>\n",
       "    </tr>\n",
       "  </thead>\n",
       "  <tbody>\n",
       "    <tr>\n",
       "      <th>0</th>\n",
       "      <td>1982-01</td>\n",
       "      <td>36.5</td>\n",
       "    </tr>\n",
       "    <tr>\n",
       "      <th>1</th>\n",
       "      <td>1982-02</td>\n",
       "      <td>9.4</td>\n",
       "    </tr>\n",
       "    <tr>\n",
       "      <th>2</th>\n",
       "      <td>1982-03</td>\n",
       "      <td>61.7</td>\n",
       "    </tr>\n",
       "    <tr>\n",
       "      <th>3</th>\n",
       "      <td>1982-04</td>\n",
       "      <td>45.1</td>\n",
       "    </tr>\n",
       "    <tr>\n",
       "      <th>4</th>\n",
       "      <td>1982-05</td>\n",
       "      <td>33.0</td>\n",
       "    </tr>\n",
       "  </tbody>\n",
       "</table>\n",
       "</div>"
      ],
      "text/plain": [
       "     month  maximum_rainfall_in_a_day\n",
       "0  1982-01                       36.5\n",
       "1  1982-02                        9.4\n",
       "2  1982-03                       61.7\n",
       "3  1982-04                       45.1\n",
       "4  1982-05                       33.0"
      ]
     },
     "execution_count": 4,
     "metadata": {},
     "output_type": "execute_result"
    }
   ],
   "source": [
    "rain_high_daily.head()"
   ]
  },
  {
   "cell_type": "code",
   "execution_count": 5,
   "metadata": {
    "colab": {
     "base_uri": "https://localhost:8080/"
    },
    "executionInfo": {
     "elapsed": 1470,
     "status": "ok",
     "timestamp": 1618656882982,
     "user": {
      "displayName": "Ashok Veda",
      "photoUrl": "https://lh3.googleusercontent.com/a-/AOh14GjUuYmUsFJgSQsyMV-At_SUuDVf1-PdPY7zJvsAeTc=s64",
      "userId": "06764506290920928613"
     },
     "user_tz": -330
    },
    "id": "sUYCnBX9DK6i",
    "outputId": "8562a7e9-9682-4459-ee7f-bfbe3b0172e0"
   },
   "outputs": [
    {
     "data": {
      "text/plain": [
       "(462, 2)"
      ]
     },
     "execution_count": 5,
     "metadata": {},
     "output_type": "execute_result"
    }
   ],
   "source": [
    "rain_high_daily.shape"
   ]
  },
  {
   "cell_type": "code",
   "execution_count": 6,
   "metadata": {
    "executionInfo": {
     "elapsed": 1328,
     "status": "ok",
     "timestamp": 1618656883612,
     "user": {
      "displayName": "Ashok Veda",
      "photoUrl": "https://lh3.googleusercontent.com/a-/AOh14GjUuYmUsFJgSQsyMV-At_SUuDVf1-PdPY7zJvsAeTc=s64",
      "userId": "06764506290920928613"
     },
     "user_tz": -330
    },
    "id": "fsT0lfYthaNG"
   },
   "outputs": [],
   "source": [
    "requiredData = rain_high_daily.copy()"
   ]
  },
  {
   "cell_type": "code",
   "execution_count": 7,
   "metadata": {
    "colab": {
     "base_uri": "https://localhost:8080/",
     "height": 202
    },
    "executionInfo": {
     "elapsed": 1388,
     "status": "ok",
     "timestamp": 1618656886963,
     "user": {
      "displayName": "Ashok Veda",
      "photoUrl": "https://lh3.googleusercontent.com/a-/AOh14GjUuYmUsFJgSQsyMV-At_SUuDVf1-PdPY7zJvsAeTc=s64",
      "userId": "06764506290920928613"
     },
     "user_tz": -330
    },
    "id": "Ug7CcFKKiBoL",
    "outputId": "5a8c1648-fa88-4ee2-87ac-9d218e63cf1e"
   },
   "outputs": [
    {
     "data": {
      "text/html": [
       "<div>\n",
       "<style scoped>\n",
       "    .dataframe tbody tr th:only-of-type {\n",
       "        vertical-align: middle;\n",
       "    }\n",
       "\n",
       "    .dataframe tbody tr th {\n",
       "        vertical-align: top;\n",
       "    }\n",
       "\n",
       "    .dataframe thead th {\n",
       "        text-align: right;\n",
       "    }\n",
       "</style>\n",
       "<table border=\"1\" class=\"dataframe\">\n",
       "  <thead>\n",
       "    <tr style=\"text-align: right;\">\n",
       "      <th></th>\n",
       "      <th>month</th>\n",
       "      <th>maximum_rainfall_in_a_day</th>\n",
       "    </tr>\n",
       "  </thead>\n",
       "  <tbody>\n",
       "    <tr>\n",
       "      <th>0</th>\n",
       "      <td>1982-01</td>\n",
       "      <td>36.5</td>\n",
       "    </tr>\n",
       "    <tr>\n",
       "      <th>1</th>\n",
       "      <td>1982-02</td>\n",
       "      <td>9.4</td>\n",
       "    </tr>\n",
       "    <tr>\n",
       "      <th>2</th>\n",
       "      <td>1982-03</td>\n",
       "      <td>61.7</td>\n",
       "    </tr>\n",
       "    <tr>\n",
       "      <th>3</th>\n",
       "      <td>1982-04</td>\n",
       "      <td>45.1</td>\n",
       "    </tr>\n",
       "    <tr>\n",
       "      <th>4</th>\n",
       "      <td>1982-05</td>\n",
       "      <td>33.0</td>\n",
       "    </tr>\n",
       "  </tbody>\n",
       "</table>\n",
       "</div>"
      ],
      "text/plain": [
       "     month  maximum_rainfall_in_a_day\n",
       "0  1982-01                       36.5\n",
       "1  1982-02                        9.4\n",
       "2  1982-03                       61.7\n",
       "3  1982-04                       45.1\n",
       "4  1982-05                       33.0"
      ]
     },
     "execution_count": 7,
     "metadata": {},
     "output_type": "execute_result"
    }
   ],
   "source": [
    "requiredData.head()"
   ]
  },
  {
   "cell_type": "code",
   "execution_count": 8,
   "metadata": {
    "executionInfo": {
     "elapsed": 2406,
     "status": "ok",
     "timestamp": 1618656891642,
     "user": {
      "displayName": "Ashok Veda",
      "photoUrl": "https://lh3.googleusercontent.com/a-/AOh14GjUuYmUsFJgSQsyMV-At_SUuDVf1-PdPY7zJvsAeTc=s64",
      "userId": "06764506290920928613"
     },
     "user_tz": -330
    },
    "id": "EaSlaBzjiEDz"
   },
   "outputs": [],
   "source": [
    "# Selecting required columns\n",
    "requiredData.columns = ['Date','rain_fall']"
   ]
  },
  {
   "cell_type": "code",
   "execution_count": 9,
   "metadata": {
    "colab": {
     "base_uri": "https://localhost:8080/",
     "height": 202
    },
    "executionInfo": {
     "elapsed": 1548,
     "status": "ok",
     "timestamp": 1618656895868,
     "user": {
      "displayName": "Ashok Veda",
      "photoUrl": "https://lh3.googleusercontent.com/a-/AOh14GjUuYmUsFJgSQsyMV-At_SUuDVf1-PdPY7zJvsAeTc=s64",
      "userId": "06764506290920928613"
     },
     "user_tz": -330
    },
    "id": "Svh-GvOoiJ57",
    "outputId": "d514558b-02c9-45d1-c27c-f335082bd68c"
   },
   "outputs": [
    {
     "data": {
      "text/html": [
       "<div>\n",
       "<style scoped>\n",
       "    .dataframe tbody tr th:only-of-type {\n",
       "        vertical-align: middle;\n",
       "    }\n",
       "\n",
       "    .dataframe tbody tr th {\n",
       "        vertical-align: top;\n",
       "    }\n",
       "\n",
       "    .dataframe thead th {\n",
       "        text-align: right;\n",
       "    }\n",
       "</style>\n",
       "<table border=\"1\" class=\"dataframe\">\n",
       "  <thead>\n",
       "    <tr style=\"text-align: right;\">\n",
       "      <th></th>\n",
       "      <th>Date</th>\n",
       "      <th>rain_fall</th>\n",
       "    </tr>\n",
       "  </thead>\n",
       "  <tbody>\n",
       "    <tr>\n",
       "      <th>0</th>\n",
       "      <td>1982-01</td>\n",
       "      <td>36.5</td>\n",
       "    </tr>\n",
       "    <tr>\n",
       "      <th>1</th>\n",
       "      <td>1982-02</td>\n",
       "      <td>9.4</td>\n",
       "    </tr>\n",
       "    <tr>\n",
       "      <th>2</th>\n",
       "      <td>1982-03</td>\n",
       "      <td>61.7</td>\n",
       "    </tr>\n",
       "    <tr>\n",
       "      <th>3</th>\n",
       "      <td>1982-04</td>\n",
       "      <td>45.1</td>\n",
       "    </tr>\n",
       "    <tr>\n",
       "      <th>4</th>\n",
       "      <td>1982-05</td>\n",
       "      <td>33.0</td>\n",
       "    </tr>\n",
       "  </tbody>\n",
       "</table>\n",
       "</div>"
      ],
      "text/plain": [
       "      Date  rain_fall\n",
       "0  1982-01       36.5\n",
       "1  1982-02        9.4\n",
       "2  1982-03       61.7\n",
       "3  1982-04       45.1\n",
       "4  1982-05       33.0"
      ]
     },
     "execution_count": 9,
     "metadata": {},
     "output_type": "execute_result"
    }
   ],
   "source": [
    "requiredData.head()"
   ]
  },
  {
   "cell_type": "code",
   "execution_count": 10,
   "metadata": {
    "colab": {
     "base_uri": "https://localhost:8080/",
     "height": 283
    },
    "executionInfo": {
     "elapsed": 2918,
     "status": "ok",
     "timestamp": 1618656900232,
     "user": {
      "displayName": "Ashok Veda",
      "photoUrl": "https://lh3.googleusercontent.com/a-/AOh14GjUuYmUsFJgSQsyMV-At_SUuDVf1-PdPY7zJvsAeTc=s64",
      "userId": "06764506290920928613"
     },
     "user_tz": -330
    },
    "id": "pRkRqFt6kjZd",
    "outputId": "672ea06b-e384-4aad-d8dd-a1f86aaf51f4"
   },
   "outputs": [
    {
     "data": {
      "image/png": "[encoded data removed]",
      "text/plain": [
       "<Figure size 432x288 with 1 Axes>"
      ]
     },
     "metadata": {
      "needs_background": "light"
     },
     "output_type": "display_data"
    }
   ],
   "source": [
    "plt.plot(requiredData.rain_fall)\n",
    "plt.show()"
   ]
  },
  {
   "cell_type": "code",
   "execution_count": 11,
   "metadata": {
    "colab": {
     "base_uri": "https://localhost:8080/"
    },
    "executionInfo": {
     "elapsed": 1132,
     "status": "ok",
     "timestamp": 1618656954108,
     "user": {
      "displayName": "Ashok Veda",
      "photoUrl": "https://lh3.googleusercontent.com/a-/AOh14GjUuYmUsFJgSQsyMV-At_SUuDVf1-PdPY7zJvsAeTc=s64",
      "userId": "06764506290920928613"
     },
     "user_tz": -330
    },
    "id": "_u5UgdLjk2LE",
    "outputId": "45d97f89-13df-40ac-f047-9931d7c47c1f"
   },
   "outputs": [
    {
     "data": {
      "text/plain": [
       "(462, 2)"
      ]
     },
     "execution_count": 11,
     "metadata": {},
     "output_type": "execute_result"
    }
   ],
   "source": [
    "requiredData.shape"
   ]
  },
  {
   "cell_type": "markdown",
   "metadata": {},
   "source": [
    "## Data Scaling"
   ]
  },
  {
   "cell_type": "code",
   "execution_count": 12,
   "metadata": {
    "executionInfo": {
     "elapsed": 1996,
     "status": "ok",
     "timestamp": 1618656956755,
     "user": {
      "displayName": "Ashok Veda",
      "photoUrl": "https://lh3.googleusercontent.com/a-/AOh14GjUuYmUsFJgSQsyMV-At_SUuDVf1-PdPY7zJvsAeTc=s64",
      "userId": "06764506290920928613"
     },
     "user_tz": -330
    },
    "id": "vCHupAkgk8HM"
   },
   "outputs": [],
   "source": [
    "# Scaling rainfall data between 0 and 1\n",
    "from sklearn.preprocessing import MinMaxScaler"
   ]
  },
  {
   "cell_type": "code",
   "execution_count": 13,
   "metadata": {
    "executionInfo": {
     "elapsed": 1047,
     "status": "ok",
     "timestamp": 1618656959307,
     "user": {
      "displayName": "Ashok Veda",
      "photoUrl": "https://lh3.googleusercontent.com/a-/AOh14GjUuYmUsFJgSQsyMV-At_SUuDVf1-PdPY7zJvsAeTc=s64",
      "userId": "06764506290920928613"
     },
     "user_tz": -330
    },
    "id": "nzfWj3cUlN9D"
   },
   "outputs": [],
   "source": [
    "sc = MinMaxScaler(feature_range=(0,1))"
   ]
  },
  {
   "cell_type": "code",
   "execution_count": 14,
   "metadata": {
    "executionInfo": {
     "elapsed": 1631,
     "status": "ok",
     "timestamp": 1618656961450,
     "user": {
      "displayName": "Ashok Veda",
      "photoUrl": "https://lh3.googleusercontent.com/a-/AOh14GjUuYmUsFJgSQsyMV-At_SUuDVf1-PdPY7zJvsAeTc=s64",
      "userId": "06764506290920928613"
     },
     "user_tz": -330
    },
    "id": "BSkJF69plO-L"
   },
   "outputs": [],
   "source": [
    "training_set = requiredData.iloc[:,1:].values"
   ]
  },
  {
   "cell_type": "code",
   "execution_count": 15,
   "metadata": {
    "executionInfo": {
     "elapsed": 2061,
     "status": "ok",
     "timestamp": 1618656972849,
     "user": {
      "displayName": "Ashok Veda",
      "photoUrl": "https://lh3.googleusercontent.com/a-/AOh14GjUuYmUsFJgSQsyMV-At_SUuDVf1-PdPY7zJvsAeTc=s64",
      "userId": "06764506290920928613"
     },
     "user_tz": -330
    },
    "id": "sHArVO7tlVAL"
   },
   "outputs": [],
   "source": [
    "training_set_scaled = sc.fit_transform(training_set)"
   ]
  },
  {
   "cell_type": "code",
   "execution_count": 16,
   "metadata": {
    "colab": {
     "base_uri": "https://localhost:8080/"
    },
    "executionInfo": {
     "elapsed": 1240,
     "status": "ok",
     "timestamp": 1618656974711,
     "user": {
      "displayName": "Ashok Veda",
      "photoUrl": "https://lh3.googleusercontent.com/a-/AOh14GjUuYmUsFJgSQsyMV-At_SUuDVf1-PdPY7zJvsAeTc=s64",
      "userId": "06764506290920928613"
     },
     "user_tz": -330
    },
    "id": "W8K-K9d5lhe6",
    "outputId": "19509380-ab36-4b96-87ee-caa72e27c278"
   },
   "outputs": [
    {
     "data": {
      "text/plain": [
       "array([[0.16805556],\n",
       "       [0.04259259],\n",
       "       [0.28472222],\n",
       "       [0.20787037],\n",
       "       [0.15185185],\n",
       "       [0.09444444],\n",
       "       [0.0787037 ],\n",
       "       [0.2662037 ],\n",
       "       [0.08240741],\n",
       "       [0.04537037]])"
      ]
     },
     "execution_count": 16,
     "metadata": {},
     "output_type": "execute_result"
    }
   ],
   "source": [
    "training_set_scaled[:10]"
   ]
  },
  {
   "cell_type": "markdown",
   "metadata": {},
   "source": [
    "## Creating training data in required format for RNN Model"
   ]
  },
  {
   "cell_type": "code",
   "execution_count": 17,
   "metadata": {
    "executionInfo": {
     "elapsed": 1445,
     "status": "ok",
     "timestamp": 1618656983416,
     "user": {
      "displayName": "Ashok Veda",
      "photoUrl": "https://lh3.googleusercontent.com/a-/AOh14GjUuYmUsFJgSQsyMV-At_SUuDVf1-PdPY7zJvsAeTc=s64",
      "userId": "06764506290920928613"
     },
     "user_tz": -330
    },
    "id": "53_YOX7jlWJr"
   },
   "outputs": [],
   "source": [
    "X_train = []\n",
    "y_train = []"
   ]
  },
  {
   "cell_type": "code",
   "execution_count": 18,
   "metadata": {
    "colab": {
     "base_uri": "https://localhost:8080/"
    },
    "executionInfo": {
     "elapsed": 1909,
     "status": "ok",
     "timestamp": 1618656985860,
     "user": {
      "displayName": "Ashok Veda",
      "photoUrl": "https://lh3.googleusercontent.com/a-/AOh14GjUuYmUsFJgSQsyMV-At_SUuDVf1-PdPY7zJvsAeTc=s64",
      "userId": "06764506290920928613"
     },
     "user_tz": -330
    },
    "id": "fks_Ri01l20B",
    "outputId": "3be4cbf9-4962-42c1-e6da-acb35608101a"
   },
   "outputs": [
    {
     "data": {
      "text/plain": [
       "(462, 1)"
      ]
     },
     "execution_count": 18,
     "metadata": {},
     "output_type": "execute_result"
    }
   ],
   "source": [
    "training_set_scaled.shape"
   ]
  },
  {
   "cell_type": "code",
   "execution_count": 19,
   "metadata": {
    "executionInfo": {
     "elapsed": 2066,
     "status": "ok",
     "timestamp": 1618656986530,
     "user": {
      "displayName": "Ashok Veda",
      "photoUrl": "https://lh3.googleusercontent.com/a-/AOh14GjUuYmUsFJgSQsyMV-At_SUuDVf1-PdPY7zJvsAeTc=s64",
      "userId": "06764506290920928613"
     },
     "user_tz": -330
    },
    "id": "aopwkvvKl0bh"
   },
   "outputs": [],
   "source": [
    "# Using past 60 days data to predict 31st day temperature\n",
    "prev_day = 60\n",
    "for i in range(prev_day,training_set_scaled.shape[0]):\n",
    "    X_train.append(training_set_scaled[i-prev_day:i,0])\n",
    "    y_train.append(training_set_scaled[i,0])"
   ]
  },
  {
   "cell_type": "code",
   "execution_count": 20,
   "metadata": {
    "executionInfo": {
     "elapsed": 800,
     "status": "ok",
     "timestamp": 1618656992277,
     "user": {
      "displayName": "Ashok Veda",
      "photoUrl": "https://lh3.googleusercontent.com/a-/AOh14GjUuYmUsFJgSQsyMV-At_SUuDVf1-PdPY7zJvsAeTc=s64",
      "userId": "06764506290920928613"
     },
     "user_tz": -330
    },
    "id": "cudFenVjmNnw"
   },
   "outputs": [],
   "source": [
    "X_train, y_train = np.array(X_train), np.array(y_train)"
   ]
  },
  {
   "cell_type": "code",
   "execution_count": 21,
   "metadata": {
    "colab": {
     "base_uri": "https://localhost:8080/"
    },
    "executionInfo": {
     "elapsed": 1405,
     "status": "ok",
     "timestamp": 1618656995959,
     "user": {
      "displayName": "Ashok Veda",
      "photoUrl": "https://lh3.googleusercontent.com/a-/AOh14GjUuYmUsFJgSQsyMV-At_SUuDVf1-PdPY7zJvsAeTc=s64",
      "userId": "06764506290920928613"
     },
     "user_tz": -330
    },
    "id": "VFtMgEG7pdWw",
    "outputId": "909b69af-63e6-491f-a445-2521bf5d8939"
   },
   "outputs": [
    {
     "data": {
      "text/plain": [
       "((402, 60), (402,))"
      ]
     },
     "execution_count": 21,
     "metadata": {},
     "output_type": "execute_result"
    }
   ],
   "source": [
    "(X_train.shape, y_train.shape)"
   ]
  },
  {
   "cell_type": "code",
   "execution_count": 22,
   "metadata": {
    "colab": {
     "base_uri": "https://localhost:8080/"
    },
    "executionInfo": {
     "elapsed": 950,
     "status": "ok",
     "timestamp": 1618652957135,
     "user": {
      "displayName": "Ashok Veda",
      "photoUrl": "https://lh3.googleusercontent.com/a-/AOh14GjUuYmUsFJgSQsyMV-At_SUuDVf1-PdPY7zJvsAeTc=s64",
      "userId": "06764506290920928613"
     },
     "user_tz": -330
    },
    "id": "n1M1ylgNmPOA",
    "outputId": "68123241-a5a4-4119-84cb-226651548174"
   },
   "outputs": [
    {
     "data": {
      "text/plain": [
       "(array([0.16805556, 0.04259259, 0.28472222, 0.20787037, 0.15185185,\n",
       "        0.09444444, 0.0787037 , 0.2662037 , 0.08240741, 0.04537037,\n",
       "        0.18240741, 0.5037037 , 0.19907407, 0.02268519, 0.0837963 ,\n",
       "        0.09768519, 0.14861111, 0.12731481, 0.25601852, 0.84074074,\n",
       "        0.23194444, 0.18425926, 0.25277778, 0.76018519, 0.2875    ,\n",
       "        0.71388889, 0.55185185, 0.17824074, 0.21203704, 0.55972222,\n",
       "        0.22685185, 0.10324074, 0.21435185, 0.21759259, 0.16296296,\n",
       "        0.26944444, 0.16342593, 0.08564815, 0.10925926, 0.13472222,\n",
       "        0.16666667, 0.04490741, 0.14814815, 0.09814815, 0.10092593,\n",
       "        0.13888889, 0.17592593, 0.40092593, 0.44166667, 0.10555556,\n",
       "        0.32824074, 0.26018519, 0.23657407, 0.1587963 , 0.10787037,\n",
       "        0.13055556, 0.45092593, 0.30277778, 0.18657407, 0.6087963 ]),\n",
       " 0.5888888888888889)"
      ]
     },
     "execution_count": 22,
     "metadata": {},
     "output_type": "execute_result"
    }
   ],
   "source": [
    "X_train[0], y_train[0]"
   ]
  },
  {
   "cell_type": "code",
   "execution_count": 23,
   "metadata": {
    "colab": {
     "base_uri": "https://localhost:8080/"
    },
    "executionInfo": {
     "elapsed": 1121,
     "status": "ok",
     "timestamp": 1618657020672,
     "user": {
      "displayName": "Ashok Veda",
      "photoUrl": "https://lh3.googleusercontent.com/a-/AOh14GjUuYmUsFJgSQsyMV-At_SUuDVf1-PdPY7zJvsAeTc=s64",
      "userId": "06764506290920928613"
     },
     "user_tz": -330
    },
    "id": "wJYxKwOimr6J",
    "outputId": "807d2aa9-05e6-459f-91dd-4e0ff1c8d25f"
   },
   "outputs": [
    {
     "name": "stdout",
     "output_type": "stream",
     "text": [
      "(402, 60, 1)\n"
     ]
    }
   ],
   "source": [
    "# Reshaping X_train to 3 dimensional array from (402, 60) to (402, 60,1)\n",
    "X_train = np.reshape(X_train, (X_train.shape[0],X_train.shape[1],1))\n",
    "print(X_train.shape)"
   ]
  },
  {
   "cell_type": "code",
   "execution_count": 24,
   "metadata": {
    "scrolled": true
   },
   "outputs": [],
   "source": [
    "# !pip install tensorflow"
   ]
  },
  {
   "cell_type": "markdown",
   "metadata": {},
   "source": [
    "### Importing tesorflow library required packages for training"
   ]
  },
  {
   "cell_type": "code",
   "execution_count": 25,
   "metadata": {
    "executionInfo": {
     "elapsed": 2894,
     "status": "ok",
     "timestamp": 1618657024218,
     "user": {
      "displayName": "Ashok Veda",
      "photoUrl": "https://lh3.googleusercontent.com/a-/AOh14GjUuYmUsFJgSQsyMV-At_SUuDVf1-PdPY7zJvsAeTc=s64",
      "userId": "06764506290920928613"
     },
     "user_tz": -330
    },
    "id": "MI0c19aYm45e"
   },
   "outputs": [],
   "source": [
    "import tensorflow as tf\n",
    "from tensorflow.keras import Model, layers"
   ]
  },
  {
   "cell_type": "code",
   "execution_count": 26,
   "metadata": {
    "executionInfo": {
     "elapsed": 1495,
     "status": "ok",
     "timestamp": 1618657048767,
     "user": {
      "displayName": "Ashok Veda",
      "photoUrl": "https://lh3.googleusercontent.com/a-/AOh14GjUuYmUsFJgSQsyMV-At_SUuDVf1-PdPY7zJvsAeTc=s64",
      "userId": "06764506290920928613"
     },
     "user_tz": -330
    },
    "id": "ec_iif-CnJaJ"
   },
   "outputs": [],
   "source": [
    "# Training Parameters\n",
    "learning_rate = 0.4\n",
    "training_steps = X_train.shape[0]\n",
    "batch_size = 20\n",
    "display_step = 100"
   ]
  },
  {
   "cell_type": "code",
   "execution_count": 27,
   "metadata": {
    "executionInfo": {
     "elapsed": 1671,
     "status": "ok",
     "timestamp": 1618657105868,
     "user": {
      "displayName": "Ashok Veda",
      "photoUrl": "https://lh3.googleusercontent.com/a-/AOh14GjUuYmUsFJgSQsyMV-At_SUuDVf1-PdPY7zJvsAeTc=s64",
      "userId": "06764506290920928613"
     },
     "user_tz": -330
    },
    "id": "98PcIorKnMHu"
   },
   "outputs": [],
   "source": [
    "# Using tf.data API to shuffle and batch data.\n",
    "train_data = tf.data.Dataset.from_tensor_slices((X_train[:380], \n",
    "                                y_train[:380]))\n",
    "\n",
    "train_data = train_data.repeat().shuffle(100).batch(batch_size\n",
    "                                        ).prefetch(1)"
   ]
  },
  {
   "cell_type": "code",
   "execution_count": 28,
   "metadata": {
    "executionInfo": {
     "elapsed": 1478,
     "status": "ok",
     "timestamp": 1618657421797,
     "user": {
      "displayName": "Ashok Veda",
      "photoUrl": "https://lh3.googleusercontent.com/a-/AOh14GjUuYmUsFJgSQsyMV-At_SUuDVf1-PdPY7zJvsAeTc=s64",
      "userId": "06764506290920928613"
     },
     "user_tz": -330
    },
    "id": "aOgClokynOBO"
   },
   "outputs": [],
   "source": [
    "class RNN(Model):\n",
    "    def __init__(self):\n",
    "        super(RNN, self).__init__()\n",
    "        \n",
    "        self.lstm_layer = layers.LSTM(units=4)\n",
    "        self.hidden_layer1 = layers.Dense(64)\n",
    "        self.hidden_layer2 = layers.Dense(128)\n",
    "        self.dropout1 = layers.Dropout(0.2)\n",
    "     #   self.dropout2 = layers.Dropout(0.3)\n",
    "     #   self.dropout3 = layers.Dropout(0.4)\n",
    "        self.out = layers.Dense(1)\n",
    "        \n",
    "    \n",
    "    def call(self, x):\n",
    "        \n",
    "        \n",
    "        x = self.lstm_layer(x)\n",
    "        x = self.dropout1(x)\n",
    "\n",
    "        x = self.dropout1(x)\n",
    "\n",
    "        x = self.hidden_layer1(x)\n",
    "      #  x = self.dropout2(x)\n",
    "\n",
    "     #   x = self.hidden_layer2(x)\n",
    "     #   x = self.dropout3(x)\n",
    "\n",
    "        x = self.out(x)\n",
    "        return x"
   ]
  },
  {
   "cell_type": "code",
   "execution_count": 29,
   "metadata": {
    "executionInfo": {
     "elapsed": 1319,
     "status": "ok",
     "timestamp": 1618657421797,
     "user": {
      "displayName": "Ashok Veda",
      "photoUrl": "https://lh3.googleusercontent.com/a-/AOh14GjUuYmUsFJgSQsyMV-At_SUuDVf1-PdPY7zJvsAeTc=s64",
      "userId": "06764506290920928613"
     },
     "user_tz": -330
    },
    "id": "hlsxHh5eArKN"
   },
   "outputs": [],
   "source": [
    "def loss_func( predicted_y, target_y):\n",
    "    target_y = tf.dtypes.cast(target_y, tf.double)\n",
    "    predicted_y = tf.dtypes.cast(predicted_y, tf.double)\n",
    "    predicted_y = tf.constant(predicted_y)\n",
    "    target_y = tf.constant(target_y)\n",
    "    loss = tf.reduce_mean(tf.square(target_y - predicted_y))\n",
    "    return loss"
   ]
  },
  {
   "cell_type": "code",
   "execution_count": 30,
   "metadata": {
    "executionInfo": {
     "elapsed": 1972,
     "status": "ok",
     "timestamp": 1618657422604,
     "user": {
      "displayName": "Ashok Veda",
      "photoUrl": "https://lh3.googleusercontent.com/a-/AOh14GjUuYmUsFJgSQsyMV-At_SUuDVf1-PdPY7zJvsAeTc=s64",
      "userId": "06764506290920928613"
     },
     "user_tz": -330
    },
    "id": "OjMcugWfnVmt"
   },
   "outputs": [],
   "source": [
    "rnn = RNN()"
   ]
  },
  {
   "cell_type": "code",
   "execution_count": 31,
   "metadata": {
    "executionInfo": {
     "elapsed": 1817,
     "status": "ok",
     "timestamp": 1618657422604,
     "user": {
      "displayName": "Ashok Veda",
      "photoUrl": "https://lh3.googleusercontent.com/a-/AOh14GjUuYmUsFJgSQsyMV-At_SUuDVf1-PdPY7zJvsAeTc=s64",
      "userId": "06764506290920928613"
     },
     "user_tz": -330
    },
    "id": "W_Jh8zManXj9"
   },
   "outputs": [],
   "source": [
    "optimizer = tf.optimizers.Adam(learning_rate)\n",
    "def train(x, y):\n",
    "    # Wrap computation inside a GradientTape for automatic differentiation.\n",
    "    with tf.GradientTape() as g:\n",
    "        # Forward pass.\n",
    "        pred = rnn(x)\n",
    "        # Compute loss.\n",
    "        loss = loss_func(pred,y)\n",
    "#         loss = cross_entropy_loss(pred, y)\n",
    "        \n",
    "    # Variables to update, i.e. trainable variables.\n",
    "    trainable_variables = rnn.trainable_variables\n",
    "\n",
    "    # Compute gradients.\n",
    "    gradients = g.gradient(loss, trainable_variables)\n",
    "    \n",
    "    # Update weights following gradients.\n",
    "    optimizer.apply_gradients(zip(gradients, trainable_variables))"
   ]
  },
  {
   "cell_type": "code",
   "execution_count": 32,
   "metadata": {
    "colab": {
     "base_uri": "https://localhost:8080/"
    },
    "executionInfo": {
     "elapsed": 80460,
     "status": "ok",
     "timestamp": 1618657501386,
     "user": {
      "displayName": "Ashok Veda",
      "photoUrl": "https://lh3.googleusercontent.com/a-/AOh14GjUuYmUsFJgSQsyMV-At_SUuDVf1-PdPY7zJvsAeTc=s64",
      "userId": "06764506290920928613"
     },
     "user_tz": -330
    },
    "id": "AIS5OpD_nbfu",
    "outputId": "e6ebb00e-a225-49ac-aa49-c7d677d78eed",
    "scrolled": true
   },
   "outputs": [
    {
     "name": "stdout",
     "output_type": "stream",
     "text": [
      "Epoch: 0 step: 1, loss: 254.434174\n",
      "Epoch: 0 step: 100, loss: 0.026275\n",
      "Epoch: 0 step: 200, loss: 0.015185\n",
      "Epoch: 0 step: 300, loss: 0.012374\n",
      "Epoch: 0 step: 400, loss: 0.582201\n",
      "Epoch: 1 step: 1, loss: 0.127822\n",
      "Epoch: 1 step: 100, loss: 0.107236\n",
      "Epoch: 1 step: 200, loss: 0.091066\n",
      "Epoch: 1 step: 300, loss: 0.039713\n",
      "Epoch: 1 step: 400, loss: 0.097563\n",
      "Epoch: 2 step: 1, loss: 0.054435\n",
      "Epoch: 2 step: 100, loss: 0.020084\n",
      "Epoch: 2 step: 200, loss: 0.065280\n",
      "Epoch: 2 step: 300, loss: 0.014697\n",
      "Epoch: 2 step: 400, loss: 0.047438\n",
      "Epoch: 3 step: 1, loss: 0.013906\n",
      "Epoch: 3 step: 100, loss: 0.031989\n",
      "Epoch: 3 step: 200, loss: 0.015751\n",
      "Epoch: 3 step: 300, loss: 0.072625\n",
      "Epoch: 3 step: 400, loss: 0.046693\n",
      "Epoch: 4 step: 1, loss: 0.023490\n",
      "Epoch: 4 step: 100, loss: 0.036951\n",
      "Epoch: 4 step: 200, loss: 0.051448\n",
      "Epoch: 4 step: 300, loss: 0.016632\n",
      "Epoch: 4 step: 400, loss: 0.054075\n",
      "Epoch: 5 step: 1, loss: 0.039678\n",
      "Epoch: 5 step: 100, loss: 0.018828\n",
      "Epoch: 5 step: 200, loss: 0.015198\n",
      "Epoch: 5 step: 300, loss: 0.015935\n",
      "Epoch: 5 step: 400, loss: 0.021294\n",
      "Epoch: 6 step: 1, loss: 0.049291\n",
      "Epoch: 6 step: 100, loss: 0.019393\n",
      "Epoch: 6 step: 200, loss: 0.030234\n",
      "Epoch: 6 step: 300, loss: 0.016088\n",
      "Epoch: 6 step: 400, loss: 0.015881\n",
      "Epoch: 7 step: 1, loss: 0.035133\n",
      "Epoch: 7 step: 100, loss: 0.015985\n",
      "Epoch: 7 step: 200, loss: 0.035369\n",
      "Epoch: 7 step: 300, loss: 0.014407\n",
      "Epoch: 7 step: 400, loss: 0.028157\n",
      "Epoch: 8 step: 1, loss: 0.042272\n",
      "Epoch: 8 step: 100, loss: 0.029987\n",
      "Epoch: 8 step: 200, loss: 0.051992\n",
      "Epoch: 8 step: 300, loss: 0.011530\n",
      "Epoch: 8 step: 400, loss: 0.017912\n",
      "Epoch: 9 step: 1, loss: 0.025320\n",
      "Epoch: 9 step: 100, loss: 0.048091\n",
      "Epoch: 9 step: 200, loss: 0.027442\n",
      "Epoch: 9 step: 300, loss: 0.042407\n",
      "Epoch: 9 step: 400, loss: 0.054292\n"
     ]
    }
   ],
   "source": [
    "# Run training for the given number of steps.\n",
    "epoches = 10\n",
    "for epoch in range(epoches):\n",
    "    for step, (batch_x, batch_y) in enumerate(train_data.take(480), 1):\n",
    "        # Run the optimization to update W and b values.\n",
    "        train(tf.reshape(batch_x,[batch_size,60,1]), batch_y)\n",
    "        \n",
    "        if step%100 == 0 or step == 1:\n",
    "            pred = rnn(tf.reshape(batch_x,[batch_size,60,1]))\n",
    "            loss = loss_func(pred, batch_y)\n",
    "            print(\"Epoch: %i step: %i, loss: %f\" % (epoch, step, loss))"
   ]
  },
  {
   "cell_type": "markdown",
   "metadata": {},
   "source": [
    "### Creating testing data in the required format for RNN Model"
   ]
  },
  {
   "cell_type": "code",
   "execution_count": 33,
   "metadata": {
    "executionInfo": {
     "elapsed": 1180,
     "status": "ok",
     "timestamp": 1618657658337,
     "user": {
      "displayName": "Ashok Veda",
      "photoUrl": "https://lh3.googleusercontent.com/a-/AOh14GjUuYmUsFJgSQsyMV-At_SUuDVf1-PdPY7zJvsAeTc=s64",
      "userId": "06764506290920928613"
     },
     "user_tz": -330
    },
    "id": "eoukx2pCHHtt"
   },
   "outputs": [],
   "source": [
    "X_test = []\n",
    "y_test = []"
   ]
  },
  {
   "cell_type": "code",
   "execution_count": 34,
   "metadata": {
    "colab": {
     "base_uri": "https://localhost:8080/"
    },
    "executionInfo": {
     "elapsed": 1579,
     "status": "ok",
     "timestamp": 1618657658922,
     "user": {
      "displayName": "Ashok Veda",
      "photoUrl": "https://lh3.googleusercontent.com/a-/AOh14GjUuYmUsFJgSQsyMV-At_SUuDVf1-PdPY7zJvsAeTc=s64",
      "userId": "06764506290920928613"
     },
     "user_tz": -330
    },
    "id": "4hcNysKaHHtx",
    "outputId": "6fca975a-e0fd-4861-873f-b6458ea19431"
   },
   "outputs": [
    {
     "data": {
      "text/plain": [
       "(462, 1)"
      ]
     },
     "execution_count": 34,
     "metadata": {},
     "output_type": "execute_result"
    }
   ],
   "source": [
    "training_set_scaled.shape"
   ]
  },
  {
   "cell_type": "code",
   "execution_count": 35,
   "metadata": {
    "executionInfo": {
     "elapsed": 1443,
     "status": "ok",
     "timestamp": 1618657658923,
     "user": {
      "displayName": "Ashok Veda",
      "photoUrl": "https://lh3.googleusercontent.com/a-/AOh14GjUuYmUsFJgSQsyMV-At_SUuDVf1-PdPY7zJvsAeTc=s64",
      "userId": "06764506290920928613"
     },
     "user_tz": -330
    },
    "id": "jg0JWziSHHtz"
   },
   "outputs": [],
   "source": [
    "# Using past 60 days data to predict 31st day temp\n",
    "prev_day = 60\n",
    "for i in range(380,training_set_scaled.shape[0]):\n",
    "    X_test.append(training_set_scaled[i-prev_day:i,0])\n",
    "    y_test.append(training_set_scaled[i,0])"
   ]
  },
  {
   "cell_type": "code",
   "execution_count": 36,
   "metadata": {
    "executionInfo": {
     "elapsed": 1999,
     "status": "ok",
     "timestamp": 1618657659661,
     "user": {
      "displayName": "Ashok Veda",
      "photoUrl": "https://lh3.googleusercontent.com/a-/AOh14GjUuYmUsFJgSQsyMV-At_SUuDVf1-PdPY7zJvsAeTc=s64",
      "userId": "06764506290920928613"
     },
     "user_tz": -330
    },
    "id": "0aJ7aQTmHjSk"
   },
   "outputs": [],
   "source": [
    "X_test = np.array(X_test)\n",
    "X_test = np.reshape(X_test, (X_test.shape[0],X_test.shape[1],1))"
   ]
  },
  {
   "cell_type": "code",
   "execution_count": 37,
   "metadata": {
    "executionInfo": {
     "elapsed": 1816,
     "status": "ok",
     "timestamp": 1618657659661,
     "user": {
      "displayName": "Ashok Veda",
      "photoUrl": "https://lh3.googleusercontent.com/a-/AOh14GjUuYmUsFJgSQsyMV-At_SUuDVf1-PdPY7zJvsAeTc=s64",
      "userId": "06764506290920928613"
     },
     "user_tz": -330
    },
    "id": "QWs0ggzipwJf"
   },
   "outputs": [],
   "source": [
    "test_data = tf.data.Dataset.from_tensor_slices((X_test, y_test))\n",
    "test_data = test_data.repeat().shuffle(100).batch(5).prefetch(1)"
   ]
  },
  {
   "cell_type": "code",
   "execution_count": 38,
   "metadata": {
    "colab": {
     "base_uri": "https://localhost:8080/",
     "height": 265
    },
    "executionInfo": {
     "elapsed": 1507,
     "status": "ok",
     "timestamp": 1618657659662,
     "user": {
      "displayName": "Ashok Veda",
      "photoUrl": "https://lh3.googleusercontent.com/a-/AOh14GjUuYmUsFJgSQsyMV-At_SUuDVf1-PdPY7zJvsAeTc=s64",
      "userId": "06764506290920928613"
     },
     "user_tz": -330
    },
    "id": "BhDGWySvFdI6",
    "outputId": "794ce80d-0599-4cff-9d71-d4c7782e2ffc"
   },
   "outputs": [
    {
     "data": {
      "image/png": "[encoded data removed]",
      "text/plain": [
       "<Figure size 432x288 with 1 Axes>"
      ]
     },
     "metadata": {
      "needs_background": "light"
     },
     "output_type": "display_data"
    }
   ],
   "source": [
    "for step, (batch_x, batch_y) in enumerate(test_data.take(1), 1):\n",
    "    pred = rnn(batch_x)\n",
    "    plt.plot(pred, label = 'pred')\n",
    "    plt.plot(batch_y, label = 'real')\n",
    "    plt.legend()"
   ]
  },
  {
   "cell_type": "markdown",
   "metadata": {
    "executionInfo": {
     "elapsed": 1809,
     "status": "aborted",
     "timestamp": 1618657388399,
     "user": {
      "displayName": "Ashok Veda",
      "photoUrl": "https://lh3.googleusercontent.com/a-/AOh14GjUuYmUsFJgSQsyMV-At_SUuDVf1-PdPY7zJvsAeTc=s64",
      "userId": "06764506290920928613"
     },
     "user_tz": -330
    },
    "id": "owPMfPlSDBP3"
   },
   "source": [
    "`Inference: ` The model is not giving best results on the data which is used for training. Further model tuning and refinment is needed."
   ]
  },
  {
   "cell_type": "code",
   "execution_count": null,
   "metadata": {},
   "outputs": [],
   "source": []
  }
 ],
 "metadata": {
  "accelerator": "GPU",
  "colab": {
   "collapsed_sections": [],
   "name": "rain forecasting.ipynb",
   "provenance": [
    {
     "file_id": "1RlUFzoWPHqSAEm5misI5u0EQ5pCQZEvK",
     "timestamp": 1618652767857
    }
   ]
  },
  "kernelspec": {
   "display_name": "Python 3",
   "language": "python",
   "name": "python3"
  },
  "language_info": {
   "codemirror_mode": {
    "name": "ipython",
    "version": 3
   },
   "file_extension": ".py",
   "mimetype": "text/x-python",
   "name": "python",
   "nbconvert_exporter": "python",
   "pygments_lexer": "ipython3",
   "version": "3.8.8"
  }
 },
 "nbformat": 4,
 "nbformat_minor": 1
}
